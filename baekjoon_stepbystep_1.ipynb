{
 "cells": [
  {
   "cell_type": "code",
   "execution_count": 21,
   "id": "c8391015",
   "metadata": {},
   "outputs": [
    {
     "name": "stdout",
     "output_type": "stream",
     "text": [
      "4 8\n",
      "6 13\n",
      "5 12\n",
      "4 8\n",
      "3 5\n",
      "13\n"
     ]
    }
   ],
   "source": [
    "'''\n",
    "백준 문제 번호 12865번 : 평범한 배낭\n",
    "\n",
    "'''\n",
    "\n",
    "\n",
    "n, k = map(int, input().split())\n",
    "\n",
    "data = []\n",
    "for _ in range(n) :\n",
    "    data.append(list(map(int, input().split())))\n",
    "    \n",
    "data.sort(key=lambda x : x[1])\n",
    "\n",
    "result = 0\n",
    "\n",
    "for _ in range(n):\n",
    "    if not data :\n",
    "        break\n",
    "    temp_max = 0\n",
    "    nk = k \n",
    "    while(1) :\n",
    "        if not data :\n",
    "            break\n",
    "        weight, value = data[-1]\n",
    "        if (nk - weight) >= 0 :\n",
    "            nk -= weight\n",
    "            temp_max += value\n",
    "        else :\n",
    "            break\n",
    "        data.pop(-1)\n",
    "    \n",
    "    if temp_max > result : \n",
    "        result = temp_max\n",
    "    #print(result,data)\n",
    "   \n",
    "        \n",
    "        \n",
    "print(result)\n",
    "\n",
    "\n",
    "        \n",
    "\n"
   ]
  },
  {
   "cell_type": "code",
   "execution_count": 23,
   "id": "11299aa5",
   "metadata": {},
   "outputs": [
    {
     "name": "stdout",
     "output_type": "stream",
     "text": [
      "1 2\n",
      "<\n"
     ]
    }
   ],
   "source": [
    "A,B = map(int, input().split())\n",
    "\n",
    "if A > B :\n",
    "    print('>')\n",
    "elif A<B :\n",
    "    print('<')\n",
    "else :\n",
    "    print('==')"
   ]
  },
  {
   "cell_type": "code",
   "execution_count": 24,
   "id": "17da83c4",
   "metadata": {},
   "outputs": [
    {
     "name": "stdout",
     "output_type": "stream",
     "text": [
      "100\n",
      "A\n"
     ]
    }
   ],
   "source": [
    "input_data = int(input())\n",
    "\n",
    "if 100 >= input_data >= 90 :\n",
    "    print('A')\n",
    "elif 89 >= input_data >= 80 :\n",
    "    print('B')\n",
    "elif 79 >= input_data >= 70 :\n",
    "    print('C') \n",
    "elif 69 >= input_data >= 60 :\n",
    "    print('D')\n",
    "else :\n",
    "    print('F')"
   ]
  },
  {
   "cell_type": "code",
   "execution_count": 30,
   "id": "b67069c0",
   "metadata": {},
   "outputs": [
    {
     "name": "stdout",
     "output_type": "stream",
     "text": [
      "1900\n"
     ]
    }
   ],
   "source": [
    "data = int(input())\n",
    "if data % 4 == 0 and (data % 100 !=0 or data%400==0 ) :\n",
    "    print('1')\n",
    "else:\n",
    "    print('0')"
   ]
  },
  {
   "cell_type": "code",
   "execution_count": 35,
   "id": "44645744",
   "metadata": {},
   "outputs": [
    {
     "name": "stdout",
     "output_type": "stream",
     "text": [
      "5\n",
      "12\n",
      "1\n"
     ]
    }
   ],
   "source": [
    "x = int(input())\n",
    "y = int(input())\n",
    "\n",
    "\n",
    "if x > 0 : \n",
    "    if y > 0 :\n",
    "        print('1')\n",
    "    else:\n",
    "        print('4')\n",
    "else :\n",
    "    if y > 0 :\n",
    "        print('2')\n",
    "    else :\n",
    "        print('3')"
   ]
  },
  {
   "cell_type": "code",
   "execution_count": 43,
   "id": "42d58cbd",
   "metadata": {},
   "outputs": [
    {
     "name": "stdout",
     "output_type": "stream",
     "text": [
      "23 40\n",
      "22 55\n"
     ]
    }
   ],
   "source": [
    "h , m = map(int ,input().split())\n",
    "\n",
    "tmp = m - 45 \n",
    "\n",
    "if tmp < 0 :\n",
    "    m = 60 + tmp\n",
    "    h-=1\n",
    "else :\n",
    "    m = tmp\n",
    "\n",
    "if h < 0 :\n",
    "    h = 24 + h\n",
    "print(h,m)\n",
    "    "
   ]
  },
  {
   "cell_type": "code",
   "execution_count": 56,
   "id": "e09d2798",
   "metadata": {},
   "outputs": [
    {
     "name": "stdout",
     "output_type": "stream",
     "text": [
      "10 22\n",
      "25\n",
      "10 47\n"
     ]
    }
   ],
   "source": [
    "h , m = map(int ,input().split())\n",
    "time = int(input())\n",
    "\n",
    "\n",
    "m += time\n",
    "\n",
    "if m >=60 :\n",
    "    h += ( m/ 60 ) \n",
    "    m %=60\n",
    "    \n",
    "if h>=24 :\n",
    "    h-= 24\n",
    "print(int(h),m)\n"
   ]
  },
  {
   "cell_type": "code",
   "execution_count": 60,
   "id": "c7bcf85d",
   "metadata": {},
   "outputs": [
    {
     "name": "stdout",
     "output_type": "stream",
     "text": [
      "6 6 2\n",
      "1600\n"
     ]
    }
   ],
   "source": [
    "x,y,z = map(int , input().split())\n",
    "\n",
    "if x==y==z :\n",
    "    print( 10000 + x * 1000)\n",
    "elif x==y and y != z:\n",
    "    print(1000 + x *100)\n",
    "elif x==z and y!=z :\n",
    "    print(1000 + x *100)\n",
    "elif y==z and x!=z :\n",
    "    print(1000 + y *100)\n",
    "else :\n",
    "    print(max(x,y,z) * 100)\n",
    "\n"
   ]
  },
  {
   "cell_type": "code",
   "execution_count": 63,
   "id": "1914b33d",
   "metadata": {},
   "outputs": [
    {
     "name": "stdout",
     "output_type": "stream",
     "text": [
      "5\n",
      "5 * 1 = 5\n",
      "5 * 2 = 10\n",
      "5 * 3 = 15\n",
      "5 * 4 = 20\n",
      "5 * 5 = 25\n",
      "5 * 6 = 30\n",
      "5 * 7 = 35\n",
      "5 * 8 = 40\n",
      "5 * 9 = 45\n"
     ]
    }
   ],
   "source": [
    "data = int(input())\n",
    "\n",
    "for i in range(9):\n",
    "    print( data ,'*',i+1,'=',data*(i+1))"
   ]
  },
  {
   "cell_type": "code",
   "execution_count": 64,
   "id": "63cc7ec7",
   "metadata": {},
   "outputs": [
    {
     "name": "stdout",
     "output_type": "stream",
     "text": [
      "5\n",
      "1 1\n",
      "2 3\n",
      "3 4\n",
      "9 8\n",
      "5 2\n",
      "2\n",
      "5\n",
      "7\n",
      "17\n",
      "7\n"
     ]
    }
   ],
   "source": [
    "n = int(input())\n",
    "data = []\n",
    "for i in range(n) :\n",
    "    x,y = map(int,input().split())\n",
    "    data.append(x+y)\n",
    "    \n",
    "for i in range(len(data)) :\n",
    "    print(data[i])"
   ]
  },
  {
   "cell_type": "code",
   "execution_count": 66,
   "id": "b4429f89",
   "metadata": {},
   "outputs": [
    {
     "name": "stdout",
     "output_type": "stream",
     "text": [
      "3\n",
      "6\n"
     ]
    }
   ],
   "source": [
    "data = int(input())\n",
    "sum = 0\n",
    "for i in range(data+1) :\n",
    "    sum+=i\n",
    "print(sum)"
   ]
  },
  {
   "cell_type": "code",
   "execution_count": null,
   "id": "d69230fa",
   "metadata": {},
   "outputs": [],
   "source": []
  }
 ],
 "metadata": {
  "kernelspec": {
   "display_name": "Python 3 (ipykernel)",
   "language": "python",
   "name": "python3"
  },
  "language_info": {
   "codemirror_mode": {
    "name": "ipython",
    "version": 3
   },
   "file_extension": ".py",
   "mimetype": "text/x-python",
   "name": "python",
   "nbconvert_exporter": "python",
   "pygments_lexer": "ipython3",
   "version": "3.9.5"
  }
 },
 "nbformat": 4,
 "nbformat_minor": 5
}
