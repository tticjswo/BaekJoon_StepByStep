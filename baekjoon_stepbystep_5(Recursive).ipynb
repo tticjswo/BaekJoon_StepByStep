{
 "cells": [
  {
   "cell_type": "code",
   "execution_count": 2,
   "id": "b9a6fa52",
   "metadata": {},
   "outputs": [
    {
     "name": "stdout",
     "output_type": "stream",
     "text": [
      "0\n",
      "1\n"
     ]
    }
   ],
   "source": [
    "'''\n",
    "백준 10872번 : 팩토리얼\n",
    "'''\n",
    "\n",
    "def factorial(n) : \n",
    "    if n == 0 :\n",
    "        return 1\n",
    "    return n * factorial(n-1)\n",
    "        \n",
    "\n",
    "n= int(input())\n",
    "print(factorial(n))\n",
    "\n"
   ]
  },
  {
   "cell_type": "code",
   "execution_count": 6,
   "id": "4fe7b899",
   "metadata": {},
   "outputs": [
    {
     "name": "stdout",
     "output_type": "stream",
     "text": [
      "12\n",
      "144\n"
     ]
    }
   ],
   "source": [
    "'''\n",
    "백준 10870번 : 피보나치 수\n",
    "'''\n",
    "\n",
    "def fibonaci(n) : \n",
    "    if n == 0 :\n",
    "        return 0\n",
    "    elif n == 1:\n",
    "        return 1\n",
    "    return fibonaci(n-2) + fibonaci(n-1)\n",
    "\n",
    "n = int(input())\n",
    "print(fibonaci(n))"
   ]
  },
  {
   "cell_type": "code",
   "execution_count": 25,
   "id": "b40752ad",
   "metadata": {},
   "outputs": [
    {
     "name": "stdout",
     "output_type": "stream",
     "text": [
      "2\n",
      "어느 한 컴퓨터공학과 학생이 유명한 교수님을 찾아가 물었다.\n",
      "\"재귀함수가 뭔가요?\"\n",
      "\"잘 들어보게. 옛날옛날 한 산 꼭대기에 이세상 모든 지식을 통달한 선인이 있었어.\n",
      "마을 사람들은 모두 그 선인에게 수많은 질문을 했고, 모두 지혜롭게 대답해 주었지.\n",
      "그의 답은 대부분 옳았다고 하네. 그런데 어느 날, 그 선인에게 한 선비가 찾아와서 물었어.\"\n",
      "____\"재귀함수가 뭔가요?\"\n",
      "____\"잘 들어보게. 옛날옛날 한 산 꼭대기에 이세상 모든 지식을 통달한 선인이 있었어.\n",
      "____마을 사람들은 모두 그 선인에게 수많은 질문을 했고, 모두 지혜롭게 대답해 주었지.\n",
      "____그의 답은 대부분 옳았다고 하네. 그런데 어느 날, 그 선인에게 한 선비가 찾아와서 물었어.\"\n",
      "________\"재귀함수가 뭔가요?\"\n",
      "________\"재귀함수는 자기 자신을 호출하는 함수 라네\"\n",
      "________라고 답변하였지.\n",
      "____라고 답변하였지.\n",
      "라고 답변하였지.\n"
     ]
    }
   ],
   "source": [
    "'''\n",
    "백준 17478번 : 재귀함수가 뭔가요?\n",
    "'''\n",
    "def recursive(m) :\n",
    "    print(\"_\" * (4 * (n - m)) + '\"재귀함수가 뭔가요?\"')\n",
    "    if m == 0 :\n",
    "        print(\"_\" * (4 * (n - m)) + '\"재귀함수는 자기 자신을 호출하는 함수라네\"')\n",
    "        print(\"_\" * (4 * (n - m)) + \"라고 답변하였지.\")\n",
    "        return \n",
    "    \n",
    "    print(\"_\" * (4 * (n - m)) + '\"잘 들어보게. 옛날옛날 한 산 꼭대기에 이세상 모든 지식을 통달한 선인이 있었어.')\n",
    "    print(\"_\" * (4 * (n - m)) + \"마을 사람들은 모두 그 선인에게 수많은 질문을 했고, 모두 지혜롭게 대답해 주었지.\")\n",
    "    print(\"_\" * (4 * (n - m)) + '그의 답은 대부분 옳았다고 하네. 그런데 어느 날, 그 선인에게 한 선비가 찾아와서 물었어.\"')\n",
    "\n",
    "    recursive(m-1)\n",
    "    \n",
    "    print(\"_\" * (4 * (n - m)) + \"라고 답변하였지.\")\n",
    "\n",
    "\n",
    "n = int(input())\n",
    "\n",
    "print(\"어느 한 컴퓨터공학과 학생이 유명한 교수님을 찾아가 물었다.\")\n",
    "recursive(n)\n"
   ]
  },
  {
   "cell_type": "code",
   "execution_count": 3,
   "id": "16d68565",
   "metadata": {},
   "outputs": [
    {
     "name": "stdout",
     "output_type": "stream",
     "text": [
      "27\n",
      "***************************\n",
      "* ** ** ** ** ** ** ** ** *\n",
      "***************************\n",
      "***   ******   ******   ***\n",
      "* *   * ** *   * ** *   * *\n",
      "***   ******   ******   ***\n",
      "***************************\n",
      "* ** ** ** ** ** ** ** ** *\n",
      "***************************\n",
      "*********         *********\n",
      "* ** ** *         * ** ** *\n",
      "*********         *********\n",
      "***   ***         ***   ***\n",
      "* *   * *         * *   * *\n",
      "***   ***         ***   ***\n",
      "*********         *********\n",
      "* ** ** *         * ** ** *\n",
      "*********         *********\n",
      "***************************\n",
      "* ** ** ** ** ** ** ** ** *\n",
      "***************************\n",
      "***   ******   ******   ***\n",
      "* *   * ** *   * ** *   * *\n",
      "***   ******   ******   ***\n",
      "***************************\n",
      "* ** ** ** ** ** ** ** ** *\n",
      "***************************\n"
     ]
    }
   ],
   "source": [
    "'''\n",
    "백준 2447번 : 별 찍기 - 10 \n",
    "'''\n",
    "def draw_stars(n) :\n",
    "    if n == 1 :\n",
    "        return ['*']\n",
    "    stars = draw_stars(n//3)\n",
    "    L = []\n",
    "    \n",
    "    for star in stars :\n",
    "        L.append(star * 3)\n",
    "    for star in stars :\n",
    "        L.append(star + ' ' * (n//3)  + star)\n",
    "    for star in stars :\n",
    "        L.append(star * 3)\n",
    "        \n",
    "    return L\n",
    "\n",
    "n =int(input())\n",
    "print('\\n'.join(draw_stars(n)))"
   ]
  },
  {
   "cell_type": "markdown",
   "id": "f49ac5cb",
   "metadata": {},
   "source": [
    "### "
   ]
  },
  {
   "cell_type": "code",
   "execution_count": 12,
   "id": "dad24650",
   "metadata": {},
   "outputs": [
    {
     "name": "stdout",
     "output_type": "stream",
     "text": [
      "3\n",
      "7\n",
      "1 3\n",
      "1 2\n",
      "3 2\n",
      "1 3\n",
      "2 1\n",
      "2 3\n",
      "1 3\n"
     ]
    }
   ],
   "source": [
    "'''\n",
    "백준 11729번 : 하노이 탑 이동 순서\n",
    "\n",
    "3단계로 이루어진다. \n",
    "\n",
    "1단계 : n-1개의 원판을 start 에서 start와 end가 아닌 남은 한 막대로 옮긴다.\n",
    "2단계 : 1개의 원판을 start에서 end로 옮긴다.\n",
    "3단계 : n-1개의 원판을 1단계에서 옮겼던 위치에서 end로 옮긴다.\n",
    "'''\n",
    "\n",
    "def hanoi(n , start , end) :\n",
    "    if n == 1: # 원판이 한개라면 start 에서 end로 옮기기만 하면 된다.\n",
    "        print(start, end)\n",
    "        return\n",
    "    hanoi(n-1,start , 6-start-end)  #1단계\n",
    "    print(start,end) #2단계\n",
    "    hanoi(n-1, 6-start-end, end) # 3단계\n",
    "\n",
    "n= int(input())\n",
    "print(2**n-1) #하노이 탑의 원판 이동횠수는 2의 n승 -1 번 이다.\n",
    "hanoi(n,1,3)\n"
   ]
  },
  {
   "cell_type": "code",
   "execution_count": null,
   "id": "86a6ba71",
   "metadata": {},
   "outputs": [],
   "source": []
  }
 ],
 "metadata": {
  "kernelspec": {
   "display_name": "Python 3 (ipykernel)",
   "language": "python",
   "name": "python3"
  },
  "language_info": {
   "codemirror_mode": {
    "name": "ipython",
    "version": 3
   },
   "file_extension": ".py",
   "mimetype": "text/x-python",
   "name": "python",
   "nbconvert_exporter": "python",
   "pygments_lexer": "ipython3",
   "version": "3.9.5"
  }
 },
 "nbformat": 4,
 "nbformat_minor": 5
}
