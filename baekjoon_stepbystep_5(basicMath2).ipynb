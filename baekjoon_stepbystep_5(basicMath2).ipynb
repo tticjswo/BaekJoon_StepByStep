{
 "cells": [
  {
   "cell_type": "code",
   "execution_count": 9,
   "id": "3999687a",
   "metadata": {},
   "outputs": [
    {
     "name": "stdout",
     "output_type": "stream",
     "text": [
      "4\n",
      "1 3 5 7\n",
      "3\n"
     ]
    }
   ],
   "source": [
    "import math\n",
    "\n",
    "def is_prime(x) :\n",
    "    if x == 1 :\n",
    "        return False\n",
    "    for i in range(2,int(math.sqrt(x))+1) :\n",
    "        if x % i == 0 :\n",
    "            return False\n",
    "    return True\n",
    "\n",
    "\n",
    "n = int(input())\n",
    "count = 0\n",
    "data = list(map(int,input().split()))\n",
    "for i in data :\n",
    "    if is_prime(i) == True :\n",
    "        count +=1\n",
    "print(count)"
   ]
  },
  {
   "cell_type": "code",
   "execution_count": 23,
   "id": "ec3457f3",
   "metadata": {},
   "outputs": [
    {
     "ename": "KeyboardInterrupt",
     "evalue": "Interrupted by user",
     "output_type": "error",
     "traceback": [
      "\u001b[1;31m---------------------------------------------------------------------------\u001b[0m",
      "\u001b[1;31mKeyboardInterrupt\u001b[0m                         Traceback (most recent call last)",
      "Input \u001b[1;32mIn [23]\u001b[0m, in \u001b[0;36m<cell line: 11>\u001b[1;34m()\u001b[0m\n\u001b[0;32m      8\u001b[0m             \u001b[38;5;28;01mreturn\u001b[39;00m \u001b[38;5;28;01mFalse\u001b[39;00m\n\u001b[0;32m      9\u001b[0m     \u001b[38;5;28;01mreturn\u001b[39;00m \u001b[38;5;28;01mTrue\u001b[39;00m\n\u001b[1;32m---> 11\u001b[0m m \u001b[38;5;241m=\u001b[39m \u001b[38;5;28mint\u001b[39m(\u001b[38;5;28;43minput\u001b[39;49m\u001b[43m(\u001b[49m\u001b[43m)\u001b[49m)\n\u001b[0;32m     12\u001b[0m n \u001b[38;5;241m=\u001b[39m \u001b[38;5;28mint\u001b[39m(\u001b[38;5;28minput\u001b[39m())\n\u001b[0;32m     14\u001b[0m result \u001b[38;5;241m=\u001b[39m []\n",
      "File \u001b[1;32m~\\AppData\\Local\\Programs\\Python\\Python39\\lib\\site-packages\\ipykernel\\kernelbase.py:1165\u001b[0m, in \u001b[0;36mKernel.raw_input\u001b[1;34m(self, prompt)\u001b[0m\n\u001b[0;32m   1161\u001b[0m \u001b[38;5;28;01mif\u001b[39;00m \u001b[38;5;129;01mnot\u001b[39;00m \u001b[38;5;28mself\u001b[39m\u001b[38;5;241m.\u001b[39m_allow_stdin:\n\u001b[0;32m   1162\u001b[0m     \u001b[38;5;28;01mraise\u001b[39;00m StdinNotImplementedError(\n\u001b[0;32m   1163\u001b[0m         \u001b[38;5;124m\"\u001b[39m\u001b[38;5;124mraw_input was called, but this frontend does not support input requests.\u001b[39m\u001b[38;5;124m\"\u001b[39m\n\u001b[0;32m   1164\u001b[0m     )\n\u001b[1;32m-> 1165\u001b[0m \u001b[38;5;28;01mreturn\u001b[39;00m \u001b[38;5;28;43mself\u001b[39;49m\u001b[38;5;241;43m.\u001b[39;49m\u001b[43m_input_request\u001b[49m\u001b[43m(\u001b[49m\n\u001b[0;32m   1166\u001b[0m \u001b[43m    \u001b[49m\u001b[38;5;28;43mstr\u001b[39;49m\u001b[43m(\u001b[49m\u001b[43mprompt\u001b[49m\u001b[43m)\u001b[49m\u001b[43m,\u001b[49m\n\u001b[0;32m   1167\u001b[0m \u001b[43m    \u001b[49m\u001b[38;5;28;43mself\u001b[39;49m\u001b[38;5;241;43m.\u001b[39;49m\u001b[43m_parent_ident\u001b[49m\u001b[43m[\u001b[49m\u001b[38;5;124;43m\"\u001b[39;49m\u001b[38;5;124;43mshell\u001b[39;49m\u001b[38;5;124;43m\"\u001b[39;49m\u001b[43m]\u001b[49m\u001b[43m,\u001b[49m\n\u001b[0;32m   1168\u001b[0m \u001b[43m    \u001b[49m\u001b[38;5;28;43mself\u001b[39;49m\u001b[38;5;241;43m.\u001b[39;49m\u001b[43mget_parent\u001b[49m\u001b[43m(\u001b[49m\u001b[38;5;124;43m\"\u001b[39;49m\u001b[38;5;124;43mshell\u001b[39;49m\u001b[38;5;124;43m\"\u001b[39;49m\u001b[43m)\u001b[49m\u001b[43m,\u001b[49m\n\u001b[0;32m   1169\u001b[0m \u001b[43m    \u001b[49m\u001b[43mpassword\u001b[49m\u001b[38;5;241;43m=\u001b[39;49m\u001b[38;5;28;43;01mFalse\u001b[39;49;00m\u001b[43m,\u001b[49m\n\u001b[0;32m   1170\u001b[0m \u001b[43m\u001b[49m\u001b[43m)\u001b[49m\n",
      "File \u001b[1;32m~\\AppData\\Local\\Programs\\Python\\Python39\\lib\\site-packages\\ipykernel\\kernelbase.py:1207\u001b[0m, in \u001b[0;36mKernel._input_request\u001b[1;34m(self, prompt, ident, parent, password)\u001b[0m\n\u001b[0;32m   1204\u001b[0m             \u001b[38;5;28;01mbreak\u001b[39;00m\n\u001b[0;32m   1205\u001b[0m \u001b[38;5;28;01mexcept\u001b[39;00m \u001b[38;5;167;01mKeyboardInterrupt\u001b[39;00m:\n\u001b[0;32m   1206\u001b[0m     \u001b[38;5;66;03m# re-raise KeyboardInterrupt, to truncate traceback\u001b[39;00m\n\u001b[1;32m-> 1207\u001b[0m     \u001b[38;5;28;01mraise\u001b[39;00m \u001b[38;5;167;01mKeyboardInterrupt\u001b[39;00m(\u001b[38;5;124m\"\u001b[39m\u001b[38;5;124mInterrupted by user\u001b[39m\u001b[38;5;124m\"\u001b[39m) \u001b[38;5;28;01mfrom\u001b[39;00m \u001b[38;5;28mNone\u001b[39m\n\u001b[0;32m   1208\u001b[0m \u001b[38;5;28;01mexcept\u001b[39;00m \u001b[38;5;167;01mException\u001b[39;00m:\n\u001b[0;32m   1209\u001b[0m     \u001b[38;5;28mself\u001b[39m\u001b[38;5;241m.\u001b[39mlog\u001b[38;5;241m.\u001b[39mwarning(\u001b[38;5;124m\"\u001b[39m\u001b[38;5;124mInvalid Message:\u001b[39m\u001b[38;5;124m\"\u001b[39m, exc_info\u001b[38;5;241m=\u001b[39m\u001b[38;5;28;01mTrue\u001b[39;00m)\n",
      "\u001b[1;31mKeyboardInterrupt\u001b[0m: Interrupted by user"
     ]
    }
   ],
   "source": [
    "import math\n",
    "\n",
    "def is_prime(x) :\n",
    "    if x == 1 :\n",
    "        return False\n",
    "    for i in range(2,int(math.sqrt(x))+1) :\n",
    "        if x % i == 0 :\n",
    "            return False\n",
    "    return True\n",
    "\n",
    "m = int(input())\n",
    "n = int(input())\n",
    "\n",
    "result = []\n",
    "data = [x for x in range(m,n+1)]\n",
    "for i in data :\n",
    "    if is_prime(i) == True :\n",
    "        result.append(i)\n",
    "if len(result) != 0 :\n",
    "    print(sum(result))\n",
    "    print(min(result))\n",
    "\n",
    "else :\n",
    "    print('-1')\n",
    "\n"
   ]
  },
  {
   "cell_type": "code",
   "execution_count": 29,
   "id": "5f2d7d9e",
   "metadata": {},
   "outputs": [
    {
     "name": "stdout",
     "output_type": "stream",
     "text": [
      "72\n",
      "2\n",
      "2\n",
      "2\n",
      "3\n",
      "3\n"
     ]
    }
   ],
   "source": [
    "'''\n",
    "백준 11653번 : 소인수 분해\n",
    "나무위키 소인수 분해 설명 참고\n",
    "'''\n",
    "n = int(input())\n",
    "i=2\n",
    "result =[]\n",
    "while(n!=1):\n",
    "    if n%i==0:\n",
    "        result.append(i)\n",
    "        n//=i\n",
    "    else :\n",
    "        i+=1\n",
    "for i in result :\n",
    "    print(i)\n"
   ]
  },
  {
   "cell_type": "code",
   "execution_count": 51,
   "id": "b0e3dc63",
   "metadata": {},
   "outputs": [
    {
     "name": "stdout",
     "output_type": "stream",
     "text": [
      "100 102\n",
      "[101]\n",
      "101\n"
     ]
    }
   ],
   "source": [
    "'''\n",
    "백준 1929번 : 소수 구하기\n",
    "\n",
    "에라토스테네스의 체 알고리즘을 이용하여 2~ n 까지의 소수를 구하고 완성된 list에서 m보다 작은 값들은 제외하는 방식 사용\n",
    "'''\n",
    "\n",
    "import math\n",
    "def is_prime_number(m,n):\n",
    "    # 2부터 n까지의 모든 수에 대하여 소수 판별\n",
    "    array = [True for i in range(n+1)] # 처음엔 모든 수가 소수(True)인 것으로 초기화(0과 1은 제외)\n",
    "\n",
    "    # 에라토스테네스의 체\n",
    "    for i in range(2, int(math.sqrt(n)) + 1): #2부터 n의 제곱근까지의 모든 수를 확인하며\n",
    "        if array[i] == True: # i가 소수인 경우(남은 수인 경우)\n",
    "            # i를 제외한 i의 모든 배수를 지우기\n",
    "            j = 2\n",
    "            while i * j <= n:\n",
    "                array[i * j] = False\n",
    "                j += 1\n",
    "\n",
    "    return [ i for i in range(2, n+1) if array[i] and i>=m]\n",
    "        \n",
    "    \n",
    "    print (data)\n",
    "m,n = map(int, input().split())\n",
    "\n",
    "result = is_prime_number(m,n)\n",
    "for i in result :\n",
    "    print(i)\n"
   ]
  },
  {
   "cell_type": "markdown",
   "id": "6b141cd9",
   "metadata": {},
   "source": [
    "###### "
   ]
  },
  {
   "cell_type": "code",
   "execution_count": 63,
   "id": "636622c6",
   "metadata": {},
   "outputs": [
    {
     "name": "stdout",
     "output_type": "stream",
     "text": [
      "1\n",
      "10\n",
      "13\n",
      "100\n",
      "1000\n",
      "0\n",
      "1\n",
      "4\n",
      "3\n",
      "21\n",
      "135\n"
     ]
    }
   ],
   "source": [
    "'''\n",
    "백준 4948번 : 베르트랑 공준\n",
    "\n",
    "'''\n",
    "import math\n",
    "def prime_list_eratos(m,n):\n",
    "    tmp = [ True for x in range(n+1)]\n",
    "    \n",
    "    for i in range(2,int(math.sqrt(n)) +1) :\n",
    "        if tmp[i] == True :\n",
    "            j = 2\n",
    "            while(i*j<=n) :\n",
    "                tmp[i*j] = False\n",
    "                j+=1\n",
    "    data =  [ i for i in range(2,n+1) if tmp[i]==True and i>m]\n",
    "    return data\n",
    "                \n",
    "result = []\n",
    "while(True) :\n",
    "    n = int(input())\n",
    "    if n == 0 :\n",
    "        break\n",
    "    result.append(len(prime_list_eratos(n,2*n)))\n",
    "    \n",
    "for i in result :\n",
    "    print(i)\n",
    "    \n",
    "\n"
   ]
  },
  {
   "cell_type": "code",
   "execution_count": 68,
   "id": "79811a8c",
   "metadata": {},
   "outputs": [
    {
     "name": "stdout",
     "output_type": "stream",
     "text": [
      "3\n",
      "8\n",
      "10\n",
      "16\n",
      "3 5\n",
      "5 5\n",
      "5 11\n"
     ]
    }
   ],
   "source": [
    "'''\n",
    "백준 9020번 : 골드바흐의 추측 \n",
    "\n",
    "'''\n",
    "import math\n",
    "tmp = [ True for x in range(10001)]\n",
    "\n",
    "for i in range(2,int(math.sqrt(10000)) +1) :\n",
    "    if tmp[i] == True :\n",
    "        j = 2\n",
    "        while(i*j<=10000) :\n",
    "            tmp[i*j] = False\n",
    "            j+=1\n",
    "nums=  [ i for i in range(2,10001) if tmp[i]==True]\n",
    "\n",
    "t= int(input())\n",
    "result = []\n",
    "for _ in range(t):\n",
    "    even = int(input())\n",
    "    half = even//2  # 입력받은 짝수를 2로 나눈 몫을 구함. / 기호를 쓰면 실수가 됨.\n",
    "    for x in range(half, 1, -1):  # 차이가 적은 두 수를 구하기 위해서 큰수부터 꺼냄\n",
    "        if (even-x in nums) and (x in nums):  # even-x 와 x가 소수 집합에 포함 되었는지 확인\n",
    "            result.append([x, even-x]) # 작은수부터 출력\n",
    "            break\n",
    "for i in result :\n",
    "    print(i[0],i[1])\n",
    "    "
   ]
  },
  {
   "cell_type": "code",
   "execution_count": null,
   "id": "78bead71",
   "metadata": {},
   "outputs": [],
   "source": []
  }
 ],
 "metadata": {
  "kernelspec": {
   "display_name": "Python 3 (ipykernel)",
   "language": "python",
   "name": "python3"
  },
  "language_info": {
   "codemirror_mode": {
    "name": "ipython",
    "version": 3
   },
   "file_extension": ".py",
   "mimetype": "text/x-python",
   "name": "python",
   "nbconvert_exporter": "python",
   "pygments_lexer": "ipython3",
   "version": "3.9.5"
  }
 },
 "nbformat": 4,
 "nbformat_minor": 5
}
