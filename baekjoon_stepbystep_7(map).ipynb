{
 "cells": [
  {
   "cell_type": "code",
   "execution_count": 11,
   "id": "a3a6a204",
   "metadata": {},
   "outputs": [
    {
     "ename": "KeyboardInterrupt",
     "evalue": "Interrupted by user",
     "output_type": "error",
     "traceback": [
      "\u001b[1;31m---------------------------------------------------------------------------\u001b[0m",
      "\u001b[1;31mKeyboardInterrupt\u001b[0m                         Traceback (most recent call last)",
      "Input \u001b[1;32mIn [11]\u001b[0m, in \u001b[0;36m<cell line: 2>\u001b[1;34m()\u001b[0m\n\u001b[0;32m      1\u001b[0m \u001b[38;5;28;01mimport\u001b[39;00m \u001b[38;5;21;01msys\u001b[39;00m\n\u001b[1;32m----> 2\u001b[0m n \u001b[38;5;241m=\u001b[39m \u001b[38;5;28mint\u001b[39m(\u001b[38;5;28;43minput\u001b[39;49m\u001b[43m(\u001b[49m\u001b[43m)\u001b[49m)\n\u001b[0;32m      3\u001b[0m data \u001b[38;5;241m=\u001b[39m \u001b[38;5;28mlist\u001b[39m(\u001b[38;5;28mmap\u001b[39m(\u001b[38;5;28mint\u001b[39m, \u001b[38;5;28minput\u001b[39m()\u001b[38;5;241m.\u001b[39msplit()))\n\u001b[0;32m      5\u001b[0m \u001b[38;5;66;03m# data = list(map(int, sys.stdin.readline().split()))\u001b[39;00m\n",
      "File \u001b[1;32m~\\AppData\\Local\\Programs\\Python\\Python39\\lib\\site-packages\\ipykernel\\kernelbase.py:1165\u001b[0m, in \u001b[0;36mKernel.raw_input\u001b[1;34m(self, prompt)\u001b[0m\n\u001b[0;32m   1161\u001b[0m \u001b[38;5;28;01mif\u001b[39;00m \u001b[38;5;129;01mnot\u001b[39;00m \u001b[38;5;28mself\u001b[39m\u001b[38;5;241m.\u001b[39m_allow_stdin:\n\u001b[0;32m   1162\u001b[0m     \u001b[38;5;28;01mraise\u001b[39;00m StdinNotImplementedError(\n\u001b[0;32m   1163\u001b[0m         \u001b[38;5;124m\"\u001b[39m\u001b[38;5;124mraw_input was called, but this frontend does not support input requests.\u001b[39m\u001b[38;5;124m\"\u001b[39m\n\u001b[0;32m   1164\u001b[0m     )\n\u001b[1;32m-> 1165\u001b[0m \u001b[38;5;28;01mreturn\u001b[39;00m \u001b[38;5;28;43mself\u001b[39;49m\u001b[38;5;241;43m.\u001b[39;49m\u001b[43m_input_request\u001b[49m\u001b[43m(\u001b[49m\n\u001b[0;32m   1166\u001b[0m \u001b[43m    \u001b[49m\u001b[38;5;28;43mstr\u001b[39;49m\u001b[43m(\u001b[49m\u001b[43mprompt\u001b[49m\u001b[43m)\u001b[49m\u001b[43m,\u001b[49m\n\u001b[0;32m   1167\u001b[0m \u001b[43m    \u001b[49m\u001b[38;5;28;43mself\u001b[39;49m\u001b[38;5;241;43m.\u001b[39;49m\u001b[43m_parent_ident\u001b[49m\u001b[43m[\u001b[49m\u001b[38;5;124;43m\"\u001b[39;49m\u001b[38;5;124;43mshell\u001b[39;49m\u001b[38;5;124;43m\"\u001b[39;49m\u001b[43m]\u001b[49m\u001b[43m,\u001b[49m\n\u001b[0;32m   1168\u001b[0m \u001b[43m    \u001b[49m\u001b[38;5;28;43mself\u001b[39;49m\u001b[38;5;241;43m.\u001b[39;49m\u001b[43mget_parent\u001b[49m\u001b[43m(\u001b[49m\u001b[38;5;124;43m\"\u001b[39;49m\u001b[38;5;124;43mshell\u001b[39;49m\u001b[38;5;124;43m\"\u001b[39;49m\u001b[43m)\u001b[49m\u001b[43m,\u001b[49m\n\u001b[0;32m   1169\u001b[0m \u001b[43m    \u001b[49m\u001b[43mpassword\u001b[49m\u001b[38;5;241;43m=\u001b[39;49m\u001b[38;5;28;43;01mFalse\u001b[39;49;00m\u001b[43m,\u001b[49m\n\u001b[0;32m   1170\u001b[0m \u001b[43m\u001b[49m\u001b[43m)\u001b[49m\n",
      "File \u001b[1;32m~\\AppData\\Local\\Programs\\Python\\Python39\\lib\\site-packages\\ipykernel\\kernelbase.py:1207\u001b[0m, in \u001b[0;36mKernel._input_request\u001b[1;34m(self, prompt, ident, parent, password)\u001b[0m\n\u001b[0;32m   1204\u001b[0m             \u001b[38;5;28;01mbreak\u001b[39;00m\n\u001b[0;32m   1205\u001b[0m \u001b[38;5;28;01mexcept\u001b[39;00m \u001b[38;5;167;01mKeyboardInterrupt\u001b[39;00m:\n\u001b[0;32m   1206\u001b[0m     \u001b[38;5;66;03m# re-raise KeyboardInterrupt, to truncate traceback\u001b[39;00m\n\u001b[1;32m-> 1207\u001b[0m     \u001b[38;5;28;01mraise\u001b[39;00m \u001b[38;5;167;01mKeyboardInterrupt\u001b[39;00m(\u001b[38;5;124m\"\u001b[39m\u001b[38;5;124mInterrupted by user\u001b[39m\u001b[38;5;124m\"\u001b[39m) \u001b[38;5;28;01mfrom\u001b[39;00m \u001b[38;5;28mNone\u001b[39m\n\u001b[0;32m   1208\u001b[0m \u001b[38;5;28;01mexcept\u001b[39;00m \u001b[38;5;167;01mException\u001b[39;00m:\n\u001b[0;32m   1209\u001b[0m     \u001b[38;5;28mself\u001b[39m\u001b[38;5;241m.\u001b[39mlog\u001b[38;5;241m.\u001b[39mwarning(\u001b[38;5;124m\"\u001b[39m\u001b[38;5;124mInvalid Message:\u001b[39m\u001b[38;5;124m\"\u001b[39m, exc_info\u001b[38;5;241m=\u001b[39m\u001b[38;5;28;01mTrue\u001b[39;00m)\n",
      "\u001b[1;31mKeyboardInterrupt\u001b[0m: Interrupted by user"
     ]
    }
   ],
   "source": [
    "import sys\n",
    "n = int(input())\n",
    "# data = list(map(int, input().split()))\n",
    "\n",
    "data = list(map(int, sys.stdin.readline().split()))\n",
    "m = int(input())\n",
    "# data2 = list(map(int,input().split()))\n",
    "\n",
    "data2 = list(map(int,sys.stdin.readline().split()))\n",
    "\n",
    "result = set(data2) - set(data)\n",
    "\n",
    "answer = [] \n",
    "for i in data2 :\n",
    "    if i in result :\n",
    "        answer.append(0)\n",
    "    else :\n",
    "        answer.append(1)\n",
    "\n",
    "for i in answer :\n",
    "    print(i,end=' ')\n",
    "    \n"
   ]
  },
  {
   "cell_type": "code",
   "execution_count": 19,
   "id": "5a07d348",
   "metadata": {},
   "outputs": [
    {
     "name": "stdout",
     "output_type": "stream",
     "text": [
      "3 1\n",
      "1\n",
      "2\n",
      "3\n",
      "{'2', '1', '3'}\n",
      "0\n"
     ]
    }
   ],
   "source": [
    "import sys\n",
    "n,m = map(int , input().split())\n",
    "s = set([input() for _ in range(n)])\n",
    "count = 0\n",
    "for _ in range(m) :\n",
    "    t = input() \n",
    "    if t in s :\n",
    "        count +=1\n",
    "print(count)"
   ]
  },
  {
   "cell_type": "code",
   "execution_count": 33,
   "id": "96cb66a4",
   "metadata": {},
   "outputs": [
    {
     "name": "stdout",
     "output_type": "stream",
     "text": [
      "3 3\n",
      "abc\n",
      "cde\n",
      "efg\n",
      "{'abc': 0, 'cde': 1, 'efg': 2}\n",
      "1\n",
      "2\n",
      "abc\n",
      "abc\n",
      "cde\n",
      "1\n"
     ]
    }
   ],
   "source": [
    "import sys\n",
    "n , m = map(int , input().split() )\n",
    "mydic = {}\n",
    "for i in range(n) :\n",
    "    mydic[i] = sys.stdin.readline().rstrip()\n",
    "mydic_reverse = {v : k for k,v in mydic.items()}\n",
    "result = []\n",
    "for i in range(m) :\n",
    "    x =  sys.stdin.readline().rstrip()\n",
    "    try:\n",
    "        t = int(x) -1\n",
    "        result.append(mydic[t])\n",
    "    except :\n",
    "        result.append(mydic_reverse[x]+1) \n",
    "        \n",
    "for i in result :\n",
    "    print(i)\n",
    "\n",
    "\n",
    "    "
   ]
  },
  {
   "cell_type": "code",
   "execution_count": null,
   "id": "b2800abd",
   "metadata": {},
   "outputs": [],
   "source": [
    "'''\n",
    "백준 10816번 \n",
    "'''\n",
    "\n",
    "import sys\n",
    "\n",
    "n = int(input())\n",
    "card =list(map(int,sys.stdin.readline().split()))\n",
    "m = int(input())\n",
    "test =list(map(int, sys.stdin.readline().split()))\n",
    "\n",
    "hash = {}\n",
    "\n",
    "for i in card :\n",
    "    if i in hash :\n",
    "        hash[i] +=1 \n",
    "    else :\n",
    "        hash[i] = 1\n",
    "    \n",
    "for i in test:\n",
    "    if i in hash :\n",
    "        print(hash[i],end=' ')\n",
    "    else :\n",
    "        print(0,end=' ')\n",
    "    "
   ]
  },
  {
   "cell_type": "code",
   "execution_count": 12,
   "id": "c67ebae2",
   "metadata": {},
   "outputs": [
    {
     "name": "stdout",
     "output_type": "stream",
     "text": [
      "3 4\n",
      "ohhenrie\n",
      "charlie\n",
      "baesangwook\n",
      "obama\n",
      "baesangwook\n",
      "ohhenrie\n",
      "clinton\n"
     ]
    },
    {
     "ename": "NameError",
     "evalue": "name 'count' is not defined",
     "output_type": "error",
     "traceback": [
      "\u001b[1;31m---------------------------------------------------------------------------\u001b[0m",
      "\u001b[1;31mNameError\u001b[0m                                 Traceback (most recent call last)",
      "Input \u001b[1;32mIn [12]\u001b[0m, in \u001b[0;36m<cell line: 19>\u001b[1;34m()\u001b[0m\n\u001b[0;32m     15\u001b[0m arraym \u001b[38;5;241m=\u001b[39m \u001b[38;5;28mset\u001b[39m(\u001b[38;5;28msorted\u001b[39m(arraym))\n\u001b[0;32m     17\u001b[0m result \u001b[38;5;241m=\u001b[39m \u001b[38;5;28msorted\u001b[39m(\u001b[38;5;28mlist\u001b[39m(arrayn \u001b[38;5;241m&\u001b[39m arraym))\n\u001b[1;32m---> 19\u001b[0m \u001b[38;5;28mprint\u001b[39m(\u001b[38;5;28mlen\u001b[39m(\u001b[43mcount\u001b[49m))\n\u001b[0;32m     20\u001b[0m \u001b[38;5;28;01mfor\u001b[39;00m i \u001b[38;5;129;01min\u001b[39;00m result :\n\u001b[0;32m     21\u001b[0m     \u001b[38;5;28mprint\u001b[39m(i, end \u001b[38;5;241m=\u001b[39m\u001b[38;5;124m'\u001b[39m\u001b[38;5;124m \u001b[39m\u001b[38;5;124m'\u001b[39m)\n",
      "\u001b[1;31mNameError\u001b[0m: name 'count' is not defined"
     ]
    }
   ],
   "source": [
    "import sys\n",
    "\n",
    "n , m  = map(int , input().split())\n",
    "arrayn = []\n",
    "arraym = []\n",
    "\n",
    "for _ in range(n):\n",
    "    arrayn.append(input())\n",
    "#     arrayn.append(sys.stdin.readline().rstrip())\n",
    "for _ in range(m):\n",
    "    arraym.append(input())\n",
    "#     arraym.append(sys.stdin.readline().rstrip())\n",
    "\n",
    "arrayn = set(sorted(arrayn))\n",
    "arraym = set(sorted(arraym))\n",
    "\n",
    "result = sorted(list(arrayn & arraym))\n",
    "\n",
    "print(len(result))\n",
    "for i in result :\n",
    "    print(i, end =' ')\n",
    "\n",
    "\n"
   ]
  },
  {
   "cell_type": "code",
   "execution_count": 18,
   "id": "5d07b3c9",
   "metadata": {},
   "outputs": [
    {
     "name": "stdout",
     "output_type": "stream",
     "text": [
      "3 5\n",
      "1 2 4\n",
      "2 3 4 5 6\n",
      "4\n"
     ]
    }
   ],
   "source": [
    "import sys\n",
    "n , m = map(int,input().split())\n",
    "\n",
    "\n",
    "arr1 = set(map(int , input().split()))\n",
    "#     arr1 = set(sys.stdin.readline().split())\n",
    "arr2 = set(map(int , input().split()))\n",
    "#     arr2 = set(sys.stdin.readline().split())\n",
    "    \n",
    "A = arr1 - arr2\n",
    "B = arr2 - arr1\n",
    "\n",
    "print(len(A|B))"
   ]
  },
  {
   "cell_type": "code",
   "execution_count": 32,
   "id": "083aca4e",
   "metadata": {},
   "outputs": [
    {
     "name": "stdout",
     "output_type": "stream",
     "text": [
      "ababc\n",
      "ababc\n",
      "12\n"
     ]
    }
   ],
   "source": [
    "tmp = input().strip()\n",
    "result = []\n",
    "for i in range(len(tmp)):\n",
    "    for j in range(1,len(tmp)+1) :\n",
    "           result.append(tmp[i:i+j])\n",
    "            \n",
    "print (len(set(result)))\n",
    "\n"
   ]
  },
  {
   "cell_type": "code",
   "execution_count": null,
   "id": "6bd6af9d",
   "metadata": {},
   "outputs": [],
   "source": []
  }
 ],
 "metadata": {
  "kernelspec": {
   "display_name": "Python 3 (ipykernel)",
   "language": "python",
   "name": "python3"
  },
  "language_info": {
   "codemirror_mode": {
    "name": "ipython",
    "version": 3
   },
   "file_extension": ".py",
   "mimetype": "text/x-python",
   "name": "python",
   "nbconvert_exporter": "python",
   "pygments_lexer": "ipython3",
   "version": "3.9.5"
  }
 },
 "nbformat": 4,
 "nbformat_minor": 5
}
