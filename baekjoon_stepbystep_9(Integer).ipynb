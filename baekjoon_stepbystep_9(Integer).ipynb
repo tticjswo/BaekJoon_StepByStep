{
 "cells": [
  {
   "cell_type": "code",
   "execution_count": 2,
   "id": "3e4e0461",
   "metadata": {},
   "outputs": [
    {
     "name": "stdout",
     "output_type": "stream",
     "text": [
      "8 16\n",
      "32 4\n",
      "17 5\n",
      "0 0\n",
      "factor\n",
      "multiple\n",
      "neither\n"
     ]
    }
   ],
   "source": [
    "'''\n",
    "백준 5086번 : 배수와 약수\n",
    "'''\n",
    "\n",
    "result = []\n",
    "\n",
    "while True :\n",
    "    a, b = map(int , input().split())\n",
    "    if a== 0 and b == 0 :\n",
    "        break\n",
    "    if b % a == 0 :\n",
    "        result.append('factor')\n",
    "    elif a% b == 0 :\n",
    "        result.append('multiple')\n",
    "    else :\n",
    "        result.append('neither')\n",
    "        \n",
    "for data in result :\n",
    "    print(data)\n",
    "    "
   ]
  },
  {
   "cell_type": "code",
   "execution_count": 5,
   "id": "39a1c415",
   "metadata": {},
   "outputs": [
    {
     "name": "stdout",
     "output_type": "stream",
     "text": [
      "14\n",
      "14 26456 2 28 13228 3307 7 23149 8 6614 46298 56 4 92596\n",
      "185192\n"
     ]
    }
   ],
   "source": [
    "'''\n",
    "백준 1037번 : 약수\n",
    "'''\n",
    "\n",
    "num = int(input())\n",
    "tmp = list(map(int,input().split()))\n",
    "tmp.sort()\n",
    "result = tmp[0] * tmp[-1]\n",
    "\n",
    "print(result)"
   ]
  },
  {
   "cell_type": "code",
   "execution_count": 16,
   "id": "8cabe37d",
   "metadata": {},
   "outputs": [
    {
     "name": "stdout",
     "output_type": "stream",
     "text": [
      "24 18\n",
      "6\n",
      "72\n"
     ]
    }
   ],
   "source": [
    "'''\n",
    "백준 2609번 : 최대공약수와 최소공배수\n",
    "'''\n",
    "#유클리드 호제법을 사용해보자\n",
    "# 2개의 자연수 a,b 에 대해 a를 b로 나눈 나머지를 r이라고 하면 (a>b)\n",
    "# a와 b의 최대 공약수는 b와 r 의 최대공약수와 같다.\n",
    "a ,b = map(int , input().split())\n",
    "\n",
    "\n",
    "\n",
    "def gcm(a,b) :\n",
    "    while b>0 :\n",
    "        a,b = b,a%b\n",
    "    return a\n",
    "\n",
    "def lcm(a,b) :\n",
    "    return int(a * b / gcm(a,b))\n",
    "\n",
    "print(gcm(a,b))\n",
    "print(lcm(a,b))"
   ]
  },
  {
   "cell_type": "code",
   "execution_count": 7,
   "id": "c97bbf5a",
   "metadata": {},
   "outputs": [
    {
     "name": "stdout",
     "output_type": "stream",
     "text": [
      "3\n",
      "1 45000\n",
      "6 19\n",
      "13 17\n",
      "45000\n",
      "114\n",
      "221\n"
     ]
    }
   ],
   "source": [
    "'''\n",
    "백준 1934번 : 최소공배수\n",
    "'''\n",
    "\n",
    "# 유클리드 호제법?\n",
    "\n",
    "# 최소 공배수를 구하는 방법은 두 수를 곱한 것(x,y)에 최대 공약수 값을 나누면 된다.\n",
    "\n",
    "\n",
    "def gcd(x,y) :\n",
    "    while y>0 :\n",
    "        x,y = y,x%y\n",
    "    return x\n",
    "\n",
    "def lcm(x,y) :\n",
    "    return int(x*y / gcd(x,y))\n",
    "\n",
    "result = []\n",
    "T = int(input())\n",
    "for i in range(T) :\n",
    "    x,y = map(int,input().split())\n",
    "    result.append(lcm(x,y))\n",
    "\n",
    "for data in result :\n",
    "    \n",
    "    print(data)\n",
    "        "
   ]
  },
  {
   "cell_type": "code",
   "execution_count": 34,
   "id": "5b9878b9",
   "metadata": {},
   "outputs": [
    {
     "name": "stdout",
     "output_type": "stream",
     "text": [
      "3\n",
      "6\n",
      "34\n",
      "38\n",
      "2 4 "
     ]
    }
   ],
   "source": [
    "'''\n",
    "백준 2981번 : 검문\n",
    "'''\n",
    "from math import gcd\n",
    "from math import sqrt\n",
    "\n",
    "# A = M * a + R    A-B = (a-b) * M\n",
    "# B = M * b + R    \n",
    "# C = M * c + R    B-C = (b-c) * M\n",
    "# M 은 A-B와 B-C 의 최대 공약수 이다. 즉 최대 공약수의 1을 제외한 약수를 출력한\n",
    "\n",
    "result = set()\n",
    "n = int(input()) \n",
    "ns = list(int(input()) for _ in range(n))\n",
    "ns.sort()\n",
    "interval = list()\n",
    "\n",
    "for i in range(1,n) :\n",
    "    interval.append(ns[i] - ns[i-1])\n",
    "prev = interval[0]\n",
    "\n",
    "\n",
    "for i in range(1,len(interval)) :\n",
    "    prev = gcd(prev, interval[i])\n",
    "    \n",
    "for i in range(2,int(prev ** 0.5) +1):\n",
    "    if prev%i == 0 :\n",
    "        result.add(i)\n",
    "        result.add(prev//i)\n",
    "result.add(prev)\n",
    "\n",
    "for data in sorted(list(result)) :\n",
    "    print(data, end=' ')\n",
    "\n",
    "    \n",
    "    \n"
   ]
  },
  {
   "cell_type": "code",
   "execution_count": 49,
   "id": "63a48923",
   "metadata": {},
   "outputs": [
    {
     "name": "stdout",
     "output_type": "stream",
     "text": [
      "4\n",
      "12 3 8 4\n",
      "4 / 1\n",
      "3 / 2\n",
      "3 / 1\n"
     ]
    }
   ],
   "source": [
    "'''\n",
    "백준 3036 번 : 링\n",
    "'''\n",
    "# 기약분수로 출력 해보자\n",
    "# 최소 공약수가 필요하다\n",
    "\n",
    "from math import gcd\n",
    "\n",
    "\n",
    "n = int(input())\n",
    "datas = list(map(int,input().split()))\n",
    "\n",
    "tmp = datas[0] \n",
    "\n",
    "result = []\n",
    "\n",
    "for data in datas[1:] :\n",
    "#     print(gcd(data,tmp))\n",
    "    result.append('{0}/{1}'.format(int(tmp/gcd(data,tmp)),int(data/gcd(data,tmp))))\n",
    "\n",
    "for string in result :\n",
    "    print(string)"
   ]
  },
  {
   "cell_type": "code",
   "execution_count": 64,
   "id": "eea45fed",
   "metadata": {},
   "outputs": [
    {
     "name": "stdout",
     "output_type": "stream",
     "text": [
      "5 2\n",
      "10\n",
      "10\n"
     ]
    }
   ],
   "source": [
    "'''\n",
    "백준 11050번: 이항 계수 1\n",
    "'''\n",
    "\n",
    "\n",
    "# 정답은 맞았지만 시간이 너무 오래걸리지 않을 까 싶다.\n",
    "# 이항계수의 성질 중 (n,k) = (n -1 , k) + (n-1, k-1) 이라는 성질을 이용하여 재귀로 풀이할 수도 있다.\n",
    "\n",
    "# \n",
    "def bino_coef(n, k):\n",
    "    if k == 0 or n == k:\n",
    "        return 1\n",
    "    return bino_coef(n-1, k) + bino_coef(n-1, k-1)\n",
    "\n",
    "\n",
    "a,b = map(int,input().split())\n",
    "print(bino_coef(a,b))\n",
    "\n",
    "result = 0\n",
    "if b < 0 or b > a :\n",
    "    print(0)\n",
    "else :\n",
    "    n = set([i for i in range(1,a+1)])\n",
    "    k = set([i for i in range(1,b+1)])\n",
    "    k2 = set([i for i in range(1,a-b+1)])\n",
    "    \n",
    "    nr = 1 \n",
    "    for i in n :\n",
    "        nr= nr * i \n",
    "    kr = 1\n",
    "    for i in k :\n",
    "        kr= kr * i\n",
    "    k2r = 1\n",
    "    for i in k2 :\n",
    "        k2r = k2r * i\n",
    "    \n",
    "    result = int(nr / (kr*k2r))\n",
    "        \n",
    "print(result)"
   ]
  },
  {
   "cell_type": "code",
   "execution_count": 15,
   "id": "bcbbee7a",
   "metadata": {},
   "outputs": [
    {
     "name": "stdout",
     "output_type": "stream",
     "text": [
      "1000 3\n",
      "765\n"
     ]
    }
   ],
   "source": [
    "'''\n",
    "백준 11051번 : 이항계수 2 \n",
    "'''\n",
    "\n",
    "\n",
    "n,k = map(int , input().split())\n",
    "dp = [[1 for _ in range(k+1)] for  _ in range(n+1)]\n",
    "\n",
    "for i in range(1, k+1) :\n",
    "    for j in range(i+1,n+1):\n",
    "        dp[j][i] = (dp[j-1][i-1] + dp[j-1][i]) % 10007\n",
    "        \n",
    "print(dp[n][k])\n",
    "\n",
    "    "
   ]
  },
  {
   "cell_type": "code",
   "execution_count": 25,
   "id": "65b71b3c",
   "metadata": {},
   "outputs": [
    {
     "name": "stdout",
     "output_type": "stream",
     "text": [
      "3\n",
      "2 2\n",
      "1 5\n",
      "13 29\n",
      "1\n",
      "5\n",
      "67863915\n"
     ]
    }
   ],
   "source": [
    "'''\n",
    "백준 1010번 : 다리 놓기\n",
    "'''\n",
    "\n",
    "# M >=  N 이므로 m개에서 n개를 뽑는 경우의 수를 출력한다고 생각하면 된다.\n",
    "\n",
    "import math\n",
    "\n",
    "T = int(input())\n",
    "slist = []\n",
    "rlist = []\n",
    "for i in range(T):\n",
    "    n,m = map(int, input().split())\n",
    "    \n",
    "    \n",
    "    slist.append(n)\n",
    "    rlist.append(m)\n",
    "    \n",
    "for i in range(len(slist)) :\n",
    "    print(math.comb(rlist[i],slist[i]))\n",
    "    \n",
    "\n",
    "    \n"
   ]
  },
  {
   "cell_type": "code",
   "execution_count": 36,
   "id": "96555cfd",
   "metadata": {},
   "outputs": [
    {
     "name": "stdout",
     "output_type": "stream",
     "text": [
      "4\n",
      "<class 'str'>\n"
     ]
    }
   ],
   "source": [
    "'''\n",
    "백준 1676번 : 팩토리얼 0의 개수\n",
    "'''\n",
    "\n",
    "n = int(input())\n",
    "\n",
    "dp = [1 for _ in range(n+1)]\n",
    "\n",
    "for i in range(1, n+1) :\n",
    "    dp[i] = i * dp[i-1]\n",
    "string = '{}'.format(dp[-1])\n",
    "index = -1 \n",
    "while True :\n",
    "    \n",
    "\n",
    "# 뒤에서부터 처음 0 이 아닌 숫자가 나올 때까지 0의 개수를 구하는 프로그램을 작성하시오\n",
    "# 1! = 1 2! = 2 3! = 6 4! = 24 5! = 120 6! = 720 7! = 5040 "
   ]
  },
  {
   "cell_type": "code",
   "execution_count": 60,
   "id": "d397ad37",
   "metadata": {},
   "outputs": [
    {
     "name": "stdout",
     "output_type": "stream",
     "text": [
      "25 12\n",
      "2\n",
      "6\n"
     ]
    }
   ],
   "source": [
    "'''\n",
    "백준 2004번 : 조합 0의 개수\n",
    "'''\n",
    "\n",
    "# maht.comb를 사용했을 때 시간 초과가 생겼다. \n",
    "# dp를 사용해서 다시 해보자\n",
    "\n",
    "# dp를 사용했을 때 메모리 초과 발생했다\n",
    "\n",
    "# 이 문제에서 마지막 0이 나오기 위해서는 2 * 5 가 몇번 반복되냐는 것이다. \n",
    "# 즉 2와 5의 쌍을 구하면 0의 갯수를 구할 수 있다.\n",
    "\n",
    "#  (n,m) = n! / (n-m)!m!\n",
    "# (n,m) = (n-1,m-1) + (n-1,m)\n",
    "\n",
    "n,m = map(int, input().split())\n",
    "\n",
    "def two_count(n) :\n",
    "    two = 0 \n",
    "    while n!= 0:\n",
    "        n = n//2\n",
    "        two += n\n",
    "    return two\n",
    "\n",
    "def five_count(n) :\n",
    "    five = 0 \n",
    "    while n !=0 :\n",
    "        n = n//5\n",
    "        five+=n\n",
    "    return five\n",
    "\n",
    "print(min(two_count(n) - two_count(n-m) - two_count(m), five_count(n) - five_count(n-m)-five_count(m)))\n"
   ]
  },
  {
   "cell_type": "code",
   "execution_count": null,
   "id": "b4424e88",
   "metadata": {
    "scrolled": true
   },
   "outputs": [
    {
     "name": "stdout",
     "output_type": "stream",
     "text": [
      "1\n",
      "2\n",
      "1 a\n",
      "2 b\n",
      "{'a': ['1'], 'b': ['2']}\n"
     ]
    }
   ],
   "source": [
    "'''\n",
    "백준 9375번 : 패션왕 신해빈\n",
    "'''\n",
    "\n",
    "# 먼저 각 옷의 종류 별로 딕셔너리로 분류한다.\n",
    "# 각 종류별 len() 값 +1 끼리 곱한다. ( 여기서 +1 을 하는 이유는 '선택하지 않음' 이라는 선택지를 추가한다고 생각해기 때문)\n",
    "# 마지막 총 cnt 값에서 -1 을 해준다. ( 여기서 -1 은 알몸인경우 즉 모든 종류의 옷을 ' 선택하지 않음' 을 선택했을 경우의 수 한가지를 제외하기 때문)\n",
    "\n",
    "\n",
    "T = int(input())\n",
    "answers = []\n",
    "for _ in range(T) :\n",
    "    n = int(input())\n",
    "    clothes = {} \n",
    "    for i in range(n) :\n",
    "        name, c_type = input().split()\n",
    "        if c_type in clothes :\n",
    "            clothes[c_type].append(name)\n",
    "        else :\n",
    "            clothes[c_type] = [name]\n",
    "    cnt = 1    \n",
    "    for key in clothes :\n",
    "        cnt *= (len(clothes[key]) +1 )\n",
    "        \n",
    "    print(clothes)\n",
    "        \n",
    "\n",
    "\n",
    "\n",
    "\n",
    "\n",
    "\n",
    "\n",
    "\n",
    "\n",
    "\n",
    "\n",
    "\n",
    "\n",
    "\n",
    "\n",
    "\n",
    "\n",
    "\n",
    "\n",
    "\n",
    "\n",
    "\n",
    "\n",
    "\n",
    "\n",
    "\n",
    "T = int(input())\n",
    "answers = []\n",
    "for _ in range(T) :\n",
    "    n = int(input())\n",
    "    weardict = {}\n",
    "    for j in range(n) :\n",
    "        wear = list(input().split())\n",
    "        if wear[1] in weardict :\n",
    "            weardict[wear[1]].append(wear[0])\n",
    "        else :\n",
    "            weardict[wear[1]] = [wear[0]]\n",
    "        \n",
    "    cnt = 1\n",
    "    for k in weardict :\n",
    "        cnt *= (len(weardict[k])+1)\n",
    "    answers.append(cnt-1)\n",
    "for answer in answers :\n",
    "    print(answer)"
   ]
  },
  {
   "cell_type": "markdown",
   "id": "63048011",
   "metadata": {},
   "source": [
    "# "
   ]
  }
 ],
 "metadata": {
  "kernelspec": {
   "display_name": "Python 3 (ipykernel)",
   "language": "python",
   "name": "python3"
  },
  "language_info": {
   "codemirror_mode": {
    "name": "ipython",
    "version": 3
   },
   "file_extension": ".py",
   "mimetype": "text/x-python",
   "name": "python",
   "nbconvert_exporter": "python",
   "pygments_lexer": "ipython3",
   "version": "3.9.5"
  }
 },
 "nbformat": 4,
 "nbformat_minor": 5
}
