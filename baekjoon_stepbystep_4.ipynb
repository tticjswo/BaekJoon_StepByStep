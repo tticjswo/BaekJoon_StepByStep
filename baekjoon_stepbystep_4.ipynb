{
 "cells": [
  {
   "cell_type": "code",
   "execution_count": 17,
   "id": "9f40c399",
   "metadata": {},
   "outputs": [
    {
     "name": "stdout",
     "output_type": "stream",
     "text": [
      "2\n",
      "2\n"
     ]
    }
   ],
   "source": [
    "n = int(input())\n",
    "tmp = 1\n",
    "cnt = 1\n",
    "\n",
    "while  n > tmp:\n",
    "    tmp += (cnt*6)\n",
    "    cnt += 1\n",
    "    \n",
    "    \n",
    "print(cnt)\n"
   ]
  },
  {
   "cell_type": "code",
   "execution_count": 66,
   "id": "74d36c55",
   "metadata": {},
   "outputs": [
    {
     "name": "stdout",
     "output_type": "stream",
     "text": [
      "200\n",
      "10/11\n"
     ]
    }
   ],
   "source": [
    "'''\n",
    "첫 번째 줄 : 1 \n",
    "두 번째 줄 : 2 ~ 3\n",
    "세 번째 줄 : 4 ~ 6\n",
    "네 번째 줄 : 7 ~ 10\n",
    "...\n",
    "주어진 n이 몇번째 줄에 들어가는 지 비교하기 위해 각 라인의 제일 끝 수 ( 3, 6, 10 ...) 을 tmp에 저장하고 이를 n과 비교한다.\n",
    "각 줄(line)에서 짝수 번째 줄은 \n",
    "top 이 1 ~ line까지 늘어나고 bottom 은 line ~ 1 까지 줄어든다.\n",
    "각 줄에서 홀수 번째 줄은\n",
    "top이 line ~ 1 까지 줄어들고 bottom 은 1~ line 까지 늘어난다.\n",
    "\n",
    "*diff 는 각 줄의 최대 값과 n과의 차이\n",
    "\n",
    "line 이 짝수 인지 홀수 인지 판단 후 \n",
    "짝수라면 top 이 line - diff , bottom 이 diff +1\n",
    "\n",
    "홀수라면 top 이 diff+1 bottom 이 line -diff 가 된다.\n",
    "\n",
    "'''\n",
    "n = int(input()) \n",
    "\n",
    "tmp = 1\n",
    "s = 2\n",
    "line = 1\n",
    "\n",
    "while n >tmp :\n",
    "    tmp += s\n",
    "    s += 1\n",
    "    line+=1\n",
    "\n",
    "diff = tmp - n\n",
    "\n",
    "if line%2== 0 :\n",
    "    top = line - diff\n",
    "    bottom = diff + 1\n",
    "else :\n",
    "    top = diff +1\n",
    "    bottom = line - diff\n",
    "\n",
    "print('%d/%d'%(top,bottom))\n",
    "\n",
    "\n",
    "\n"
   ]
  },
  {
   "cell_type": "code",
   "execution_count": 89,
   "id": "216fd92e",
   "metadata": {},
   "outputs": [
    {
     "name": "stdout",
     "output_type": "stream",
     "text": [
      "100 99 1000000000\n",
      "999999901\n"
     ]
    }
   ],
   "source": [
    "import math\n",
    "a ,b, v = map(int, input().split())\n",
    "\n",
    "print( math.ceil((v-b) / (a-b)))\n",
    "\n"
   ]
  },
  {
   "cell_type": "code",
   "execution_count": 110,
   "id": "cc6fa9c0",
   "metadata": {},
   "outputs": [
    {
     "name": "stdout",
     "output_type": "stream",
     "text": [
      "1\n",
      "30 50 72\n",
      "1203\n"
     ]
    }
   ],
   "source": [
    "import math\n",
    "\n",
    "t = int(input())\n",
    "data = []\n",
    "for i in range(t) :\n",
    "    h , w, n = map(int, input().split())\n",
    "    floor = n % h\n",
    "    if floor == 0 :\n",
    "        floor = h\n",
    "\n",
    "    room = math.ceil(n/h)\n",
    "    data.append(('%d%02d'%(floor,room)))\n",
    "for i in data :\n",
    "    print(i)"
   ]
  },
  {
   "cell_type": "markdown",
   "id": "7f8f6f58",
   "metadata": {},
   "source": [
    "## "
   ]
  },
  {
   "cell_type": "code",
   "execution_count": null,
   "id": "9deb5a95",
   "metadata": {},
   "outputs": [],
   "source": []
  }
 ],
 "metadata": {
  "kernelspec": {
   "display_name": "Python 3 (ipykernel)",
   "language": "python",
   "name": "python3"
  },
  "language_info": {
   "codemirror_mode": {
    "name": "ipython",
    "version": 3
   },
   "file_extension": ".py",
   "mimetype": "text/x-python",
   "name": "python",
   "nbconvert_exporter": "python",
   "pygments_lexer": "ipython3",
   "version": "3.9.5"
  }
 },
 "nbformat": 4,
 "nbformat_minor": 5
}
