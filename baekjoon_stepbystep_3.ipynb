{
 "cells": [
  {
   "cell_type": "code",
   "execution_count": 4,
   "id": "bf398bdf",
   "metadata": {},
   "outputs": [
    {
     "name": "stdout",
     "output_type": "stream",
     "text": [
      "A\n",
      "65\n"
     ]
    }
   ],
   "source": [
    "'''\n",
    "문자를 아스키 코드로 -> ord()\n",
    "아스키 코드를 문자로 -> chr()\n",
    "'''\n",
    "data = ord(input())\n",
    "print(data)\n"
   ]
  },
  {
   "cell_type": "code",
   "execution_count": 8,
   "id": "46ae660e",
   "metadata": {},
   "outputs": [
    {
     "name": "stdout",
     "output_type": "stream",
     "text": [
      "5\n",
      "12345\n",
      "15\n"
     ]
    }
   ],
   "source": [
    "'''\n",
    "inpput().strip() 한문자씩 끊어 읽기\n",
    "'''\n",
    "\n",
    "n = int(input())\n",
    "data = list(map(int, input().strip()))\n",
    "print(sum(data))"
   ]
  },
  {
   "cell_type": "code",
   "execution_count": 18,
   "id": "5e142b3b",
   "metadata": {},
   "outputs": [
    {
     "name": "stdout",
     "output_type": "stream",
     "text": [
      "baekjoon\n",
      "1 0 -1 -1 2 -1 -1 -1 -1 4 3 -1 -1 7 5 -1 -1 -1 -1 -1 -1 -1 -1 -1 -1 -1 "
     ]
    }
   ],
   "source": [
    "input_data = input()\n",
    "\n",
    "result = [-1] *26\n",
    "\n",
    "for i in range(len(input_data)) :\n",
    "    index = abs(ord('a') - ord(input_data[i]))\n",
    "    if result[index] == -1 :\n",
    "        result[index] = i\n",
    "for i in range(len(result)) :\n",
    "    print(result[i],end=' ')\n"
   ]
  },
  {
   "cell_type": "code",
   "execution_count": 25,
   "id": "07742db7",
   "metadata": {},
   "outputs": [
    {
     "name": "stdout",
     "output_type": "stream",
     "text": [
      "2\n",
      "3 ABC\n",
      "5 AB\n",
      "AAABBBCCC\n",
      "AAAAABBBBB\n"
     ]
    }
   ],
   "source": [
    "T = int(input())\n",
    "data = []\n",
    "for i in range(T) :\n",
    "    data.append(input().split())\n",
    "\n",
    "for i in range(len(data)) :\n",
    "    for j in range(len(data[i][1])):\n",
    "        for _ in range(int(data[i][0])) :\n",
    "            print(data[i][1][j],end='')\n",
    "    print()\n"
   ]
  },
  {
   "cell_type": "code",
   "execution_count": 42,
   "id": "28f5bf0a",
   "metadata": {},
   "outputs": [
    {
     "name": "stdout",
     "output_type": "stream",
     "text": [
      "ABBBBCC\n",
      "B\n"
     ]
    }
   ],
   "source": [
    "data = input().strip()\n",
    "result = [0] * 26\n",
    "for i in range(len(data)) :\n",
    "    if ord('Z') >= ord(data[i]) >= ord('A') :\n",
    "        result[ord(data[i])-ord('A')] +=1\n",
    "        continue\n",
    "    result[ord(data[i])-ord('a')] +=1\n",
    "\n",
    "max_data = max(result)\n",
    "count =0\n",
    "flag = 0\n",
    "for i in range(len(result)) :\n",
    "    if result[i] == max_data :\n",
    "        count +=1\n",
    "    if count >=2:\n",
    "        flag = 1\n",
    "        break\n",
    "if flag :\n",
    "    print('?')\n",
    "else :\n",
    "    \n",
    "    print(chr(ord('A') + result.index(max_data)))\n",
    "    \n",
    "    "
   ]
  },
  {
   "cell_type": "code",
   "execution_count": 43,
   "id": "b46f01d2",
   "metadata": {},
   "outputs": [
    {
     "name": "stdout",
     "output_type": "stream",
     "text": [
      "The last character is a blank \n",
      "6\n"
     ]
    }
   ],
   "source": [
    "data = input().split()\n",
    "print(len(data))"
   ]
  },
  {
   "cell_type": "code",
   "execution_count": 48,
   "id": "20da8cbd",
   "metadata": {},
   "outputs": [
    {
     "name": "stdout",
     "output_type": "stream",
     "text": [
      "734 893\n",
      "437\n"
     ]
    }
   ],
   "source": [
    "x,y = input().split()\n",
    "print(max(x[::-1],y[::-1]))"
   ]
  },
  {
   "cell_type": "code",
   "execution_count": 55,
   "id": "8a8092d3",
   "metadata": {},
   "outputs": [
    {
     "name": "stdout",
     "output_type": "stream",
     "text": [
      "UNUCIC\n",
      "36\n"
     ]
    }
   ],
   "source": [
    "data = input().strip()\n",
    "\n",
    "\n",
    "count =0\n",
    "\n",
    "for i in range(len(data)) :\n",
    "    tmp = (ord(data[i]) - ord('A'))\n",
    "    if 0<=tmp < 3 :\n",
    "        count +=3\n",
    "    elif 3<= tmp < 6 :\n",
    "        count+=4\n",
    "    elif 6<= tmp < 9 :\n",
    "        count +=5\n",
    "    elif 9<=tmp< 12 :\n",
    "        count +=6\n",
    "    elif 12 <=tmp<15 :\n",
    "        count +=7\n",
    "    elif 15 <= tmp < 19 :\n",
    "        count +=8\n",
    "    elif 19 <= tmp < 22 :\n",
    "        count +=9\n",
    "    elif 21 <= tmp <:\n",
    "        count += 10\n",
    "print(count)\n",
    "        "
   ]
  },
  {
   "cell_type": "code",
   "execution_count": 65,
   "id": "f216088d",
   "metadata": {},
   "outputs": [
    {
     "name": "stdout",
     "output_type": "stream",
     "text": [
      "ddz=z=\n",
      "3\n"
     ]
    }
   ],
   "source": [
    "data = input()\n",
    "croatia = ['c=','c-','dz=','d-','lj','nj','s=','z=']\n",
    "\n",
    "for i in croatia :\n",
    "    data = data.replace(i,'*')\n",
    "print(len(data))"
   ]
  },
  {
   "cell_type": "code",
   "execution_count": 6,
   "id": "c6f5d40c",
   "metadata": {},
   "outputs": [
    {
     "name": "stdout",
     "output_type": "stream",
     "text": [
      "2\n",
      "aba\n",
      "bb\n",
      "1\n"
     ]
    }
   ],
   "source": [
    "n = int(input())\n",
    "result = n\n",
    "\n",
    "for i in range(n):\n",
    "    word = input()\n",
    "    for j in range(len(word)-1) :\n",
    "        if word[j] == word[j+1] :\n",
    "            pass\n",
    "        elif word[j] in word[j+1:] :\n",
    "            result -=1\n",
    "            break\n",
    "print(result)\n",
    "    \n",
    "    \n",
    "    "
   ]
  },
  {
   "cell_type": "code",
   "execution_count": null,
   "id": "328541f2",
   "metadata": {},
   "outputs": [],
   "source": []
  },
  {
   "cell_type": "code",
   "execution_count": null,
   "id": "a5cef4e0",
   "metadata": {},
   "outputs": [],
   "source": []
  }
 ],
 "metadata": {
  "kernelspec": {
   "display_name": "Python 3 (ipykernel)",
   "language": "python",
   "name": "python3"
  },
  "language_info": {
   "codemirror_mode": {
    "name": "ipython",
    "version": 3
   },
   "file_extension": ".py",
   "mimetype": "text/x-python",
   "name": "python",
   "nbconvert_exporter": "python",
   "pygments_lexer": "ipython3",
   "version": "3.9.5"
  }
 },
 "nbformat": 4,
 "nbformat_minor": 5
}
