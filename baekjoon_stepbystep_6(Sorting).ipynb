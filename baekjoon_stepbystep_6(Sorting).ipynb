{
 "cells": [
  {
   "cell_type": "code",
   "execution_count": 1,
   "id": "7d9a9cfd",
   "metadata": {},
   "outputs": [
    {
     "name": "stdout",
     "output_type": "stream",
     "text": [
      "5\n",
      "5\n",
      "2\n",
      "3\n",
      "4\n",
      "1\n",
      "1\n",
      "2\n",
      "3\n",
      "4\n",
      "5\n"
     ]
    }
   ],
   "source": [
    "n = int(input()) \n",
    "array= []\n",
    "for i in range(n) :\n",
    "    array.append(int(input()))\n",
    "    \n",
    "array.sort()\n",
    "for i in array :\n",
    "    print(i)\n",
    "    \n",
    "    "
   ]
  },
  {
   "cell_type": "code",
   "execution_count": 39,
   "id": "e3b59c40",
   "metadata": {
    "scrolled": true
   },
   "outputs": [
    {
     "name": "stdout",
     "output_type": "stream",
     "text": [
      "5\n",
      "-1\n",
      "-2\n",
      "-3\n",
      "-1\n",
      "-2\n",
      "-2\n",
      "-2\n",
      "-1\n",
      "2\n"
     ]
    }
   ],
   "source": [
    "'''\n",
    "2108번 : 통계학\n",
    "\n",
    "최빈값을 구하는 게 제일 어렵다.\n",
    ".count() 함수를 사용하면 시간초과가 된다.\n",
    "Collections 라이브러리의 Counter 함수를 이용해보자 \n",
    "\n",
    "단순히 int() 로 소수를 표현하게 되면 정수부 부분만 나오게 된다.\n",
    "원하는 값은 반올림 값이기 때문에 내장함수 round()를 이용하자\n",
    "'''\n",
    "import sys\n",
    "from collections import Counter\n",
    "n = int(input())\n",
    "\n",
    "data = []\n",
    "\n",
    "for i in range(n) :\n",
    "#     data.append(int(sys.stdin.readline()))\n",
    "    data.append(int(input()))\n",
    "data.sort()\n",
    "value1= round(sum(data) / len(data))\n",
    "value2= data[len(data) //2 ]\n",
    "\n",
    "md = Counter(data)\n",
    "max_list = [x for x in md.keys() if md[x] == max(md.values())] \n",
    "\n",
    "#산술평균\n",
    "print(value1)\n",
    "#중앙값\n",
    "print(value2)\n",
    "#최빈값 :\n",
    "\n",
    "if len(max_list) ==1  :\n",
    "    print(max_list[0])\n",
    "else:\n",
    "    print(max_list[1])\n",
    "\n",
    "#범위\n",
    "if len(data) >=2 :\n",
    "    value4= data[-1] - data[0]\n",
    "    print(value4)\n",
    "else :\n",
    "    print('0')\n",
    "\n",
    "\n",
    "        "
   ]
  },
  {
   "cell_type": "markdown",
   "id": "747ecab0",
   "metadata": {},
   "source": [
    "# "
   ]
  },
  {
   "cell_type": "code",
   "execution_count": 51,
   "id": "659ca5b1",
   "metadata": {},
   "outputs": [
    {
     "name": "stdout",
     "output_type": "stream",
     "text": [
      "61423\n",
      "64321"
     ]
    }
   ],
   "source": [
    "'''\n",
    "백준 1427번 : 소트 인사이드\n",
    "'''\n",
    "\n",
    "n = list(map(int,input().strip()))\n",
    "n.sort(reverse=True)\n",
    "\n",
    "for i in n:\n",
    "    print(i,end='')"
   ]
  },
  {
   "cell_type": "code",
   "execution_count": 73,
   "id": "5a2b0ac6",
   "metadata": {},
   "outputs": [
    {
     "name": "stdout",
     "output_type": "stream",
     "text": [
      "3\n",
      "1 1\n",
      "2 2\n",
      "3 3\n",
      "1 1\n",
      "2 2\n",
      "3 3\n"
     ]
    }
   ],
   "source": [
    "'''\n",
    "백준 11650번 : 좌표 정렬하기\n",
    "\n",
    "sort() 함수를 사용할때 정렬 조건을 줄 때 어떤 식으로 줄지 배운다.\n",
    "key= 라는 키워드를 사용하면 가능한데 요즘은 대부분 lambda 를 이용해서 다음 조건을 준다.\n",
    "조건을 여러개 줄때는 튜플 처럼 묶어서!\n",
    "'''\n",
    "import sys\n",
    "n = int(input())\n",
    "data= []\n",
    "for _ in range(n) :\n",
    "    \n",
    "    data.append(list(map(int,sys.stdin.readline().split())))\n",
    "\n",
    "data.sort(key= lambda x : (x[0],x[1]))\n",
    "for i in data :\n",
    "    print('%d %d'%(i[0],i[1]))"
   ]
  },
  {
   "cell_type": "code",
   "execution_count": 74,
   "id": "10c4f3a7",
   "metadata": {},
   "outputs": [
    {
     "name": "stdout",
     "output_type": "stream",
     "text": [
      "5\n"
     ]
    },
    {
     "ename": "IndexError",
     "evalue": "list index out of range",
     "output_type": "error",
     "traceback": [
      "\u001b[1;31m---------------------------------------------------------------------------\u001b[0m",
      "\u001b[1;31mIndexError\u001b[0m                                Traceback (most recent call last)",
      "Input \u001b[1;32mIn [74]\u001b[0m, in \u001b[0;36m<cell line: 17>\u001b[1;34m()\u001b[0m\n\u001b[0;32m     13\u001b[0m \u001b[38;5;28;01mfor\u001b[39;00m _ \u001b[38;5;129;01min\u001b[39;00m \u001b[38;5;28mrange\u001b[39m(n) :\n\u001b[0;32m     15\u001b[0m     data\u001b[38;5;241m.\u001b[39mappend(\u001b[38;5;28mlist\u001b[39m(\u001b[38;5;28mmap\u001b[39m(\u001b[38;5;28mint\u001b[39m,sys\u001b[38;5;241m.\u001b[39mstdin\u001b[38;5;241m.\u001b[39mreadline()\u001b[38;5;241m.\u001b[39msplit())))\n\u001b[1;32m---> 17\u001b[0m \u001b[43mdata\u001b[49m\u001b[38;5;241;43m.\u001b[39;49m\u001b[43msort\u001b[49m\u001b[43m(\u001b[49m\u001b[43mkey\u001b[49m\u001b[38;5;241;43m=\u001b[39;49m\u001b[43m \u001b[49m\u001b[38;5;28;43;01mlambda\u001b[39;49;00m\u001b[43m \u001b[49m\u001b[43mx\u001b[49m\u001b[43m \u001b[49m\u001b[43m:\u001b[49m\u001b[43m \u001b[49m\u001b[43m(\u001b[49m\u001b[43mx\u001b[49m\u001b[43m[\u001b[49m\u001b[38;5;241;43m1\u001b[39;49m\u001b[43m]\u001b[49m\u001b[43m,\u001b[49m\u001b[43mx\u001b[49m\u001b[43m[\u001b[49m\u001b[38;5;241;43m0\u001b[39;49m\u001b[43m]\u001b[49m\u001b[43m)\u001b[49m\u001b[43m)\u001b[49m\n\u001b[0;32m     18\u001b[0m \u001b[38;5;28;01mfor\u001b[39;00m i \u001b[38;5;129;01min\u001b[39;00m data :\n\u001b[0;32m     19\u001b[0m     \u001b[38;5;28mprint\u001b[39m(\u001b[38;5;124m'\u001b[39m\u001b[38;5;132;01m%d\u001b[39;00m\u001b[38;5;124m \u001b[39m\u001b[38;5;132;01m%d\u001b[39;00m\u001b[38;5;124m'\u001b[39m\u001b[38;5;241m%\u001b[39m(i[\u001b[38;5;241m0\u001b[39m],i[\u001b[38;5;241m1\u001b[39m]))\n",
      "Input \u001b[1;32mIn [74]\u001b[0m, in \u001b[0;36m<lambda>\u001b[1;34m(x)\u001b[0m\n\u001b[0;32m     13\u001b[0m \u001b[38;5;28;01mfor\u001b[39;00m _ \u001b[38;5;129;01min\u001b[39;00m \u001b[38;5;28mrange\u001b[39m(n) :\n\u001b[0;32m     15\u001b[0m     data\u001b[38;5;241m.\u001b[39mappend(\u001b[38;5;28mlist\u001b[39m(\u001b[38;5;28mmap\u001b[39m(\u001b[38;5;28mint\u001b[39m,sys\u001b[38;5;241m.\u001b[39mstdin\u001b[38;5;241m.\u001b[39mreadline()\u001b[38;5;241m.\u001b[39msplit())))\n\u001b[1;32m---> 17\u001b[0m data\u001b[38;5;241m.\u001b[39msort(key\u001b[38;5;241m=\u001b[39m \u001b[38;5;28;01mlambda\u001b[39;00m x : (\u001b[43mx\u001b[49m\u001b[43m[\u001b[49m\u001b[38;5;241;43m1\u001b[39;49m\u001b[43m]\u001b[49m,x[\u001b[38;5;241m0\u001b[39m]))\n\u001b[0;32m     18\u001b[0m \u001b[38;5;28;01mfor\u001b[39;00m i \u001b[38;5;129;01min\u001b[39;00m data :\n\u001b[0;32m     19\u001b[0m     \u001b[38;5;28mprint\u001b[39m(\u001b[38;5;124m'\u001b[39m\u001b[38;5;132;01m%d\u001b[39;00m\u001b[38;5;124m \u001b[39m\u001b[38;5;132;01m%d\u001b[39;00m\u001b[38;5;124m'\u001b[39m\u001b[38;5;241m%\u001b[39m(i[\u001b[38;5;241m0\u001b[39m],i[\u001b[38;5;241m1\u001b[39m]))\n",
      "\u001b[1;31mIndexError\u001b[0m: list index out of range"
     ]
    }
   ],
   "source": [
    "'''\n",
    "백준 11651번 : 좌표 정렬하기2\n",
    "\n",
    "sort() 함수를 사용할때 정렬 조건을 줄 때 어떤 식으로 줄지 배운다.\n",
    "key= 라는 키워드를 사용하면 가능한데 요즘은 대부분 lambda 를 이용해서 다음 조건을 준다.\n",
    "조건을 여러개 줄때는 튜플 처럼 묶어서!\n",
    "\n",
    "11650 번과는 조건 순서가 다르다\n",
    "'''\n",
    "import sys\n",
    "n = int(input())\n",
    "data= []\n",
    "for _ in range(n) :\n",
    "    data.append(list(map(int,sys.stdin.readline().split())))\n",
    "\n",
    "data.sort(key= lambda x : (x[1],x[0]))\n",
    "for i in data :\n",
    "    print('%d %d'%(i[0],i[1]))"
   ]
  },
  {
   "cell_type": "code",
   "execution_count": 80,
   "id": "1871eef5",
   "metadata": {},
   "outputs": [
    {
     "name": "stdout",
     "output_type": "stream",
     "text": [
      "13\n",
      "but\n",
      "i\n",
      "wont\n",
      "hesitate\n",
      "no\n",
      "more\n",
      "no\n",
      "more\n",
      "it\n",
      "cannot\n",
      "wait\n",
      "im\n",
      "yours\n",
      "i\n",
      "im\n",
      "it\n",
      "no\n",
      "but\n",
      "more\n",
      "wait\n",
      "wont\n",
      "yours\n",
      "cannot\n",
      "hesitate\n"
     ]
    }
   ],
   "source": [
    "'''\n",
    "백준 1181번 : 단어 정렬\n",
    "'''\n",
    "n = int(input())\n",
    "words= []\n",
    "for i in range(n) :\n",
    "    words.append(input())\n",
    "words = list(set(words))\n",
    "words.sort(key = lambda x : (len(x),x))\n",
    "for word in words :\n",
    "    print(word)"
   ]
  },
  {
   "cell_type": "code",
   "execution_count": 89,
   "id": "52781f59",
   "metadata": {},
   "outputs": [
    {
     "name": "stdout",
     "output_type": "stream",
     "text": [
      "3\n",
      "21 sang\n",
      "22 kim\n",
      "21 hello\n",
      "21 sang\n",
      "21 hello\n",
      "22 kim\n"
     ]
    }
   ],
   "source": [
    "'''\n",
    "백준 10814번 : 나이순 정렬\n",
    "'''\n",
    "\n",
    "n = int(input())\n",
    "data = []\n",
    "for i in range(n) :\n",
    "    x,y=input().split()\n",
    "\n",
    "    data.append([int(x),y])\n",
    "\n",
    "data.sort(key = lambda x : x[0] )\n",
    "for i in data :\n",
    "    print('%d %s' %(i[0],i[1]))\n",
    "    "
   ]
  },
  {
   "cell_type": "code",
   "execution_count": 100,
   "id": "8a68b200",
   "metadata": {},
   "outputs": [
    {
     "name": "stdout",
     "output_type": "stream",
     "text": [
      "5\n",
      "2 4 -10 4 -9\n",
      "2 3 0 3 1 "
     ]
    }
   ],
   "source": [
    "'''\n",
    "백준 18879번 : 좌표 압축 \n",
    "X(i)를 압축한 결과 X'(i)는 X(i) >X(j)를 만족하는 서로 다른 좌표의 개수와 같아야한다.\n",
    "\n",
    "즉 중복을 없앤 후 각 값의 순위와 마찬가지 가 된다. 시작은 0부터\n",
    "'''\n",
    "\n",
    "n = int(input())\n",
    "array= list(map(int, input().split()))\n",
    "array2 = []\n",
    "\n",
    "array2 = list(sorted(set(array)))\n",
    "\n",
    "dic = {array2[i] : i for i in range(len(array2))}\n",
    "\n",
    "for i in array :\n",
    "    print(dic[i],end=' ')\n",
    "            \n"
   ]
  },
  {
   "cell_type": "markdown",
   "id": "f7fec0b1",
   "metadata": {},
   "source": [
    "## "
   ]
  }
 ],
 "metadata": {
  "kernelspec": {
   "display_name": "Python 3 (ipykernel)",
   "language": "python",
   "name": "python3"
  },
  "language_info": {
   "codemirror_mode": {
    "name": "ipython",
    "version": 3
   },
   "file_extension": ".py",
   "mimetype": "text/x-python",
   "name": "python",
   "nbconvert_exporter": "python",
   "pygments_lexer": "ipython3",
   "version": "3.9.5"
  }
 },
 "nbformat": 4,
 "nbformat_minor": 5
}
