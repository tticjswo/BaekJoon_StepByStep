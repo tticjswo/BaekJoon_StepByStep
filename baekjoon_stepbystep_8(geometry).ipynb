{
 "cells": [
  {
   "cell_type": "code",
   "execution_count": 6,
   "id": "f573f232",
   "metadata": {},
   "outputs": [
    {
     "name": "stdout",
     "output_type": "stream",
     "text": [
      "161 181 762 375\n",
      "161\n"
     ]
    }
   ],
   "source": [
    "'''\n",
    "백준 1085번 : 직사각형에서 탈출\n",
    "'''\n",
    "\n",
    "\n",
    "x,y,w,h = map(int ,input().split())\n",
    "\n",
    "\n",
    "# 현 위치에서 직사각형의 각 변까지의 직선을 그으면 총 4개의 직선이 그려진다.\n",
    "# 각 직선은 |0-x| , w-x , |0-y| , h - y 이다.\n",
    "\n",
    "result = min(abs(0-x), w-x ,abs(0-y) , h-y)\n",
    "\n",
    "print(result)\n",
    "\n",
    "\n"
   ]
  },
  {
   "cell_type": "code",
   "execution_count": 7,
   "id": "10f909ec",
   "metadata": {},
   "outputs": [
    {
     "name": "stdout",
     "output_type": "stream",
     "text": [
      "30 20\n",
      "10 10\n",
      "10 20\n",
      "[30] [10]\n"
     ]
    }
   ],
   "source": [
    "'''\n",
    "백준 3009번 : 네번째 점\n",
    "'''\n",
    "arr1 = []\n",
    "arr2 = [] \n",
    "\n",
    "for _ in range(3) :\n",
    "    x , y = map(int, input().split())\n",
    "    if x in arr1 :\n",
    "        arr1.remove(x)\n",
    "    else :\n",
    "        arr1.append(x)\n",
    "    if y in arr2 :\n",
    "        arr2.remove(y)\n",
    "    else :\n",
    "        arr2.append(y)\n",
    "        \n",
    "print(arr1[0],arr2[0])\n",
    "        \n",
    "# 각 점들의 x 값을 담는 리스트와 y 값을 담는 리스트를 만들고 \n",
    "# 중복된 값이 들어오면 리스트 내의 값을 삭제 없으면 추가하는 식으로한다면\n",
    "# 마지막 점에 나와야할 x y 값만 리스트 내부에 각각 남게 될 것이다.\n",
    "    \n",
    "    \n",
    "    \n",
    "    \n",
    "    \n",
    "\n"
   ]
  },
  {
   "cell_type": "code",
   "execution_count": 14,
   "id": "f9e46ef1",
   "metadata": {},
   "outputs": [
    {
     "name": "stdout",
     "output_type": "stream",
     "text": [
      "6 8 10\n",
      "0 0 0\n",
      "right\n"
     ]
    }
   ],
   "source": [
    "'''\n",
    "백준 4153번 : 직각삼각형\n",
    "'''\n",
    "# 피타고라스 정리는 간단하다. 제일 큰 변을 c라고 한다면 \n",
    "# a제곱 + b제곱 = c 제곱\n",
    "# 해당 수식을 pow 함수를 이용하여 구현해본다.\n",
    "result = []\n",
    "while (1) :\n",
    "    tmp = list(map(int, input().split()))\n",
    "    tmp.sort()\n",
    "    \n",
    "    a = tmp[0]\n",
    "    b = tmp[1]\n",
    "    c = tmp[2]\n",
    "    \n",
    "    \n",
    "    if a== 0 and  b==0 and c == 0 :\n",
    "        break\n",
    "        \n",
    "    if pow(a,2) + pow(b,2)  == pow(c,2) :\n",
    "        result.append('right')\n",
    "    else :\n",
    "        result.append('wrong')\n",
    "\n",
    "for data in result :\n",
    "    print(data)\n"
   ]
  },
  {
   "cell_type": "code",
   "execution_count": 28,
   "id": "3cb5c712",
   "metadata": {
    "scrolled": true
   },
   "outputs": [
    {
     "name": "stdout",
     "output_type": "stream",
     "text": [
      "1\n",
      "3 10\n",
      "2 50\n",
      "3 60\n",
      "2 20\n",
      "4 70\n",
      "1 70\n"
     ]
    }
   ],
   "source": [
    "'''\n",
    "백준 2477번 : 참외밭\n",
    "'''\n",
    "# 임의의 점에서 동쪽(1) , 서쪽(2) 으로 이동하는 방향은 가로를 나타낼 것이고\n",
    "# 남쪽(3), 북쪽(4) 으로 이동하는 방향은 세로를 나태는 것이다. \n",
    "\n",
    "# 제일 큰 가로 세로선을 찾고 그 선들과 인접한 선을 제외한 나머지 가로선 세로선이 작은 직사각형의 크기가 될것이다.\n",
    "\n",
    "K = int(input())\n",
    "max_height = 0  # 가장 긴 높이를 저장할 변수\n",
    "max_width = 0  # 가장 긴 가로길이를 저장할 변수\n",
    "max_width_index = 0  # 가장 긴 가로길이의 인덱스를 저장할 변수\n",
    "max_height_index = 0  # 가장 긴 높이의 인덱스를 저장할 변수\n",
    "info = []  # 변의 정보들을 저장할 리스트\n",
    "for i in range(6):\n",
    "    temp = list(map(int, input().split()))\n",
    "    info.append(temp)\n",
    "    if temp[0] == 1 or temp[0] == 2:  # 만약 가로 길이라면\n",
    "        if max_width < temp[1]:  # 해당 길이가 가장 길다면\n",
    "            max_width = temp[1]  # 그 길이를 가장긴 가로로 저장한 후\n",
    "            max_width_index = i  # 그에 해당하는 인덱스를 저장\n",
    "    else:\n",
    "        if max_height < temp[1]:  # 해당 길이가 가장 길다면\n",
    "            max_height = temp[1]  # 그 길이를 가장긴 세로로 저장한 후\n",
    "            max_height_index = i  # 그에 해당하는 인덱스를 저장\n",
    "\n",
    "            \n",
    "# 그 후 가장 긴 가로 및 세로와 인접한 변 2개와 가장긴 가로와 세로 총 4개를 새로운 리스트에 저장한다.\n",
    "index_list = [info[max_height_index - 1], info[(max_height_index + 1) % 6], info[max_width_index - 1],\n",
    "              info[(max_width_index + 1) % 6]]\n",
    "\n",
    "product = 1  # 곱을 저장할 변수\n",
    "for i in info:  # 입력받은 변들 중에\n",
    "    if i not in index_list:  # 만약 새로운 리스트에 저장한 변 4개 중에 없다면 빈 사각형이므로\n",
    "        product *= i[1]  # 그 넓이를 변수에 저장한다.\n",
    "\n",
    "result = (max_width * max_height - product) * K\n",
    "print(result)"
   ]
  },
  {
   "cell_type": "code",
   "execution_count": 32,
   "id": "259739fc",
   "metadata": {},
   "outputs": [
    {
     "name": "stdout",
     "output_type": "stream",
     "text": [
      "1\n",
      "3.141593\n",
      "2\n"
     ]
    }
   ],
   "source": [
    "'''\n",
    "백준 3053번 : 택시 기하학\n",
    "'''\n",
    "# 유클리드 기하학에서 원의 넓이는 r * r * pi\n",
    "# 택시 기하학에서 원의 넓이는 r * r * 2\n",
    "# 택시 기하학의 이해를 더해주기 위해 다른사람들의 풀이를 간단히 첨부한다.\n",
    "\n",
    "# 택시 기하학에서의 원은 두 대각선의 길이가 같은 마름모 모양의 정사각형이다. \n",
    "# 원의 정의가 정점에서 일정한 거리에 있는 점의 집합을 의미하는데\n",
    "# 택시 평면 위에서는 정점에서의 거리가 같은 점의 집합이 마름모 모양의 정사각형이 된다.\n",
    "# 택시 평면 위에서 택시가 이동하는 거리가 동일한 점을 이어 보면 알 수 있다..\n",
    "\n",
    "import math\n",
    "\n",
    "r = int(input())\n",
    "print(f'{r*r*math.pi:.6f}')\n",
    "print(r*r*2)\n"
   ]
  },
  {
   "cell_type": "code",
   "execution_count": 39,
   "id": "9979a4bb",
   "metadata": {},
   "outputs": [
    {
     "name": "stdout",
     "output_type": "stream",
     "text": [
      "3\n",
      "0 0 13 40 0 37\n",
      "0 0 3 0 7 4\n",
      "1 1 1 1 1 5\n",
      "2\n",
      "1\n",
      "0\n"
     ]
    }
   ],
   "source": [
    "'''\n",
    "백준 1002번 : 터렛\n",
    "'''\n",
    "# 처음 수학문제로 접근했을 떄 류재명의 위치를 (a,b) 로 두었을 때 a,b가 어떻게 나올 지 구하려고했다.\n",
    "# 이는 프로그래밍으로 불가능했고\n",
    "# 문제의 의도가 다름을 파악했다. 이 문제는 원의 동심원인지, 외접인지 내접인지 파악하는 문제이다.\n",
    "# 동심원이라고 한다면 마린의 위치의 경우의 수는 무한대이다.\n",
    "# 내접이나 외접이라면 경우의 수는 1개일 것이다.\n",
    "# 두점에서 만나는 경우의 수는 2개일 것이다.\n",
    "import math\n",
    "\n",
    "result = []\n",
    "T = int(input())\n",
    "for i in range(T) :\n",
    "    x1,y1,r1,x2,y2,r2 = map(int, input().split())\n",
    "\n",
    "    dist = math.sqrt((abs(x1-x2)**2 + abs(y1-y2)**2))\n",
    "    \n",
    "    if dist == 0 and r1==r2 : # 동심원\n",
    "        result.append('-1')\n",
    "    elif abs(r1-r2) < dist < abs(r1+r2) : # 서로다른 두점에서 만남\n",
    "        result.append('2')\n",
    "    elif abs(r1-r2) == dist or r1+r2 == dist : # 내접 이거나 외접일때\n",
    "        result.append('1')\n",
    "    else : #아예 만나지 않음\n",
    "        result.append('0')\n",
    "        \n",
    "for data in result :\n",
    "    print(data)\n",
    "\n",
    "\n",
    "\n",
    "\n"
   ]
  },
  {
   "cell_type": "code",
   "execution_count": 3,
   "id": "9d454f25",
   "metadata": {},
   "outputs": [
    {
     "name": "stdout",
     "output_type": "stream",
     "text": [
      "2\n",
      "-5 1 12 1\n",
      "7\n",
      "1 1 8\n",
      "-3 -1 1\n",
      "2 2 2\n",
      "5 5 1\n",
      "-4 5 1\n",
      "12 1 1\n",
      "12 1 2\n",
      "-5 1 5 1\n",
      "1\n",
      "0 0 2\n",
      "2\n",
      "0\n"
     ]
    }
   ],
   "source": [
    "'''\n",
    "백준 1004번 : 어린왕자\n",
    "'''\n",
    "\n",
    "\n",
    "# 행성을 접해야하는 경우는 출발점이나 도착점이 행성의 내부에 위치한 경우 이다. \n",
    "\n",
    "# 원의 방정식 : (x-a)^2 + (y-b)^2 = r^2\n",
    "# 원의 내부에 있는지 알기 위해서는 원의 방정식을 응용하여 (x-a)^2 + (y-b)^2 <= r^2 로 나타낼 수 있다.\n",
    "# pow((x-a)^2 + (y-b)^2)\n",
    "\n",
    "result = []\n",
    "T = int(input())\n",
    "for _ in range(T) :\n",
    "    cnt = 0\n",
    "    x1,y1,x2,y2 = map(int,input().split())\n",
    "    n = int(input())\n",
    "    for i in range(n) :\n",
    "        # 출발점/도착점과 주어진 원점 좌표의 거리를 구한다,\n",
    "        cx, cy, cr = map(int, input().split())\n",
    "        dis1 = (x1 - cx)**2 + (y1 - cy)**2\n",
    "        dis2 = (x2 - cx)**2 + (y2 - cy)**2\n",
    "        pow_cr = cr**2\n",
    "        \n",
    "        if pow_cr > dis1 and pow_cr > dis2: \n",
    "            # 출발점 과의 거리와 도착점과의 거리가 모두 원의 반지름 보다 작다면 원 내부에 있기 때문에 pass\n",
    "            pass\n",
    "        elif pow_cr > dis1:\n",
    "            # d1 중 d2 중 하나만 원의 반지름 보다 작다면 해당점이 원 내부에 있고 나머지는 원밖에 있다는 뜻이다. 즉 cnt +=1\n",
    "            cnt += 1\n",
    "        elif pow_cr > dis2:\n",
    "            cnt += 1\n",
    "    result.append(cnt)\n",
    "    \n",
    "for data in result :\n",
    "    print(data)\n",
    "        \n",
    "        "
   ]
  },
  {
   "cell_type": "code",
   "execution_count": 13,
   "id": "2484a5d2",
   "metadata": {},
   "outputs": [
    {
     "name": "stdout",
     "output_type": "stream",
     "text": [
      "20 10 0 0 14\n",
      "-5 5\n",
      "-4 2\n",
      "-4 8\n",
      "-3 1\n",
      "-3 9\n",
      "0 0\n",
      "0 10\n",
      "20 0\n",
      "20 10\n",
      "23 1\n",
      "23 9\n",
      "24 2\n",
      "24 8\n",
      "25 5\n",
      "4\n"
     ]
    }
   ],
   "source": [
    "'''\n",
    "백준 1358번 : 하키 \n",
    "'''\n",
    "\n",
    "# 주어진 도형 내에 좌표가 존재하는지 파악해보자\n",
    "# 제일 먼저 x,y 를 왼쪽 아래 꼭지점으로 하는 w * h 만큼의 직사각형 안에 있는지 파악\n",
    "# 그 뒤 (x,y+height/2)를 원점으로 하는 반지름  height/2  원 내부에 있는지 확인한다.\n",
    "# 마지막으로 (x+width ,y +height/2 ) 를 원점으로 하고 반지름 height/2 를 하는 원 내부에 있는 지 확인한다.\n",
    "\n",
    "width , height, x, y, p = map(int, input().split())\n",
    "radius = height /2\n",
    "cnt=0\n",
    "\n",
    "for _ in range(p) :\n",
    "    a,b = map(int,input().split())\n",
    "    if (x <= a <= x+width) and (y <= b <= y+height) :\n",
    "        cnt +=1\n",
    "        continue\n",
    "        \n",
    "    # 왼쪽 원의 방정식 :\n",
    "    # (X - x)**2 + (Y - (y+radius)) ** 2  = radius **2\n",
    "    if ((a - x)**2) + ((b - (y+radius)) ** 2 )<= radius **2:\n",
    "        cnt+=1\n",
    "    # 오른쪽 원의 방정식 :\n",
    "    # ((X - (x+width)) **2) + ((Y - (y+radius))**2) = radius **2 \n",
    "    elif ((a - (x+width))**2) + ((b - (y+radius)) ** 2 )<= radius **2:\n",
    "        cnt +=1\n",
    "        \n",
    "print (cnt)"
   ]
  },
  {
   "cell_type": "code",
   "execution_count": null,
   "id": "b5c3803b",
   "metadata": {},
   "outputs": [],
   "source": []
  }
 ],
 "metadata": {
  "kernelspec": {
   "display_name": "Python 3 (ipykernel)",
   "language": "python",
   "name": "python3"
  },
  "language_info": {
   "codemirror_mode": {
    "name": "ipython",
    "version": 3
   },
   "file_extension": ".py",
   "mimetype": "text/x-python",
   "name": "python",
   "nbconvert_exporter": "python",
   "pygments_lexer": "ipython3",
   "version": "3.9.5"
  }
 },
 "nbformat": 4,
 "nbformat_minor": 5
}
