{
 "cells": [
  {
   "cell_type": "code",
   "execution_count": 46,
   "id": "47872c53",
   "metadata": {},
   "outputs": [
    {
     "name": "stdout",
     "output_type": "stream",
     "text": [
      "2\n",
      "1\n",
      "3\n",
      "2\n",
      "3\n",
      "6\n",
      "10\n"
     ]
    }
   ],
   "source": [
    "'''\n",
    "백준 2775 번 풀이 : 부녀회장이 될테야\n",
    "'''\n",
    "\n",
    "import sys\n",
    "result = []\n",
    "t = int(input())\n",
    "for i in range(t):\n",
    "    k = int(input())\n",
    "    n = int(input())\n",
    "    \n",
    "    data0 = [x for x in range(1,n+1)] # 첫 0층 거주민 초기화 1~ n\n",
    "    for k in range(k) :\n",
    "        data= [1]*n # 다음 층 리스트 정의\n",
    "        for j in range(1,n) :\n",
    "            data[j] = sum(data0[:j+1]) # 이전 층의 1~j호 까지의 거주민 의 합이 현재층의 j호 거주민\n",
    "        data0 = data #완성된 다음층을 현재층으로 \n",
    "    result.append(data0[n-1])\n",
    "    \n",
    "for i in range(len(result)) :\n",
    "    print(result[i])\n",
    "        \n",
    "    \n",
    "    \n",
    "#     k = int(sys.stdin.readline())\n"
   ]
  },
  {
   "cell_type": "code",
   "execution_count": null,
   "id": "c5035c57",
   "metadata": {},
   "outputs": [],
   "source": []
  },
  {
   "cell_type": "code",
   "execution_count": 97,
   "id": "1be86df7",
   "metadata": {},
   "outputs": [
    {
     "name": "stdout",
     "output_type": "stream",
     "text": [
      "4\n",
      "0 1\n",
      "-1\n"
     ]
    }
   ],
   "source": [
    "'''\n",
    "백준 2839번 : 설탕 배달\n",
    "\n",
    "이런게 그리디 알고리즘의 기초 아닐까\n",
    "'''\n",
    "n = int(input())\n",
    "x,y=0,0\n",
    "\n",
    "count = 0\n",
    "\n",
    "count += n//5\n",
    "x+= n//5\n",
    "n%=5\n",
    "\n",
    "count += n//3\n",
    "y += n//3\n",
    "n%=3\n",
    "# 5x + 3y <= n 인상태로 x를 최대로 만든 x,y를 만든다.\n",
    "\n",
    "if n == 0 :\n",
    "    print(count)\n",
    "else :\n",
    "    while(x) : # x를 하나씩 줄여가면서 테스트\n",
    "        n += 5\n",
    "        x-=1\n",
    "        count-=1\n",
    "        count +=n//3\n",
    "        n%=3\n",
    "        if n==0:\n",
    "            break\n",
    "    if( n != 0 ) :\n",
    "        print('-1')\n",
    "    else:\n",
    "        print(count)\n",
    "# if n==0:\n",
    "#     print(count)\n",
    "# else :\n",
    "#     if(num5!= 0) :\n",
    "#         while(num5&n) :\n",
    "#             n+=5 \n",
    "#             num5-=1\n",
    "#             count -=1\n",
    "#             count+=n//3\n",
    "#             n%=3\n",
    "#         print(count)\n",
    "#     else :\n",
    "#         print('-1')"
   ]
  },
  {
   "cell_type": "code",
   "execution_count": 99,
   "id": "112f9e5d",
   "metadata": {},
   "outputs": [
    {
     "name": "stdout",
     "output_type": "stream",
     "text": [
      "9223372036854775807 9223372036854775808\n",
      "18446744073709551615\n"
     ]
    }
   ],
   "source": [
    "x,y = map(int,input().split())\n",
    "\n",
    "print(x+y)"
   ]
  },
  {
   "cell_type": "code",
   "execution_count": null,
   "id": "ade14a82",
   "metadata": {},
   "outputs": [],
   "source": []
  },
  {
   "cell_type": "code",
   "execution_count": null,
   "id": "9e1dcff3",
   "metadata": {},
   "outputs": [],
   "source": []
  }
 ],
 "metadata": {
  "kernelspec": {
   "display_name": "Python 3 (ipykernel)",
   "language": "python",
   "name": "python3"
  },
  "language_info": {
   "codemirror_mode": {
    "name": "ipython",
    "version": 3
   },
   "file_extension": ".py",
   "mimetype": "text/x-python",
   "name": "python",
   "nbconvert_exporter": "python",
   "pygments_lexer": "ipython3",
   "version": "3.9.5"
  }
 },
 "nbformat": 4,
 "nbformat_minor": 5
}
